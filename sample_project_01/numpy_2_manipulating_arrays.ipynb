{
 "cells": [
  {
   "cell_type": "markdown",
   "id": "48336521",
   "metadata": {},
   "source": [
    "# Manipulating Arrays"
   ]
  },
  {
   "cell_type": "markdown",
   "id": "be52f0ec",
   "metadata": {},
   "source": [
    "### Arithmetic"
   ]
  },
  {
   "cell_type": "code",
   "execution_count": 1,
   "id": "2ba80daf",
   "metadata": {},
   "outputs": [],
   "source": [
    "import numpy as np\n",
    "import pandas as pd\n",
    "\n",
    "a1 = np.array([1, 2, 3])\n",
    "a2 = np.array([[1, 2.0, 3.3],\n",
    "               [4, 5, 6.5]])\n",
    "a3 = np.array([[[1, 2, 3],\n",
    "                [4, 5, 6]],\n",
    "               [[7, 8, 9],\n",
    "                [10, 11, 12]],\n",
    "               [[13, 14, 15],\n",
    "                [16, 17, 19]]])\n",
    "a4 = np.random.randint(10, size=(2, 3, 4, 5))"
   ]
  },
  {
   "cell_type": "code",
   "execution_count": 2,
   "id": "346f7138",
   "metadata": {},
   "outputs": [
    {
     "data": {
      "text/plain": [
       "array([1, 2, 3])"
      ]
     },
     "execution_count": 2,
     "metadata": {},
     "output_type": "execute_result"
    }
   ],
   "source": [
    "a1"
   ]
  },
  {
   "cell_type": "code",
   "execution_count": 4,
   "id": "7016da27",
   "metadata": {},
   "outputs": [
    {
     "data": {
      "text/plain": [
       "array([1., 1., 1.])"
      ]
     },
     "execution_count": 4,
     "metadata": {},
     "output_type": "execute_result"
    }
   ],
   "source": [
    "ones = np.ones(3)\n",
    "ones"
   ]
  },
  {
   "cell_type": "code",
   "execution_count": 5,
   "id": "ac7672de",
   "metadata": {},
   "outputs": [
    {
     "data": {
      "text/plain": [
       "array([2., 3., 4.])"
      ]
     },
     "execution_count": 5,
     "metadata": {},
     "output_type": "execute_result"
    }
   ],
   "source": [
    "a1 + ones"
   ]
  },
  {
   "cell_type": "code",
   "execution_count": 6,
   "id": "5351a4ab",
   "metadata": {},
   "outputs": [
    {
     "data": {
      "text/plain": [
       "array([[ 1. ,  4. ,  9.9],\n",
       "       [ 4. , 10. , 19.5]])"
      ]
     },
     "execution_count": 6,
     "metadata": {},
     "output_type": "execute_result"
    }
   ],
   "source": [
    "a1 * a2"
   ]
  },
  {
   "cell_type": "code",
   "execution_count": 7,
   "id": "d4d2e263",
   "metadata": {},
   "outputs": [
    {
     "data": {
      "text/plain": [
       "array([[[  1. ,   4. ,   9.9],\n",
       "        [ 16. ,  25. ,  39. ]],\n",
       "\n",
       "       [[  7. ,  16. ,  29.7],\n",
       "        [ 40. ,  55. ,  78. ]],\n",
       "\n",
       "       [[ 13. ,  28. ,  49.5],\n",
       "        [ 64. ,  85. , 123.5]]])"
      ]
     },
     "execution_count": 7,
     "metadata": {},
     "output_type": "execute_result"
    }
   ],
   "source": [
    "a2 * a3"
   ]
  },
  {
   "cell_type": "code",
   "execution_count": 8,
   "id": "50fe66d1",
   "metadata": {},
   "outputs": [
    {
     "data": {
      "text/plain": [
       "array([[[  1,   4,   9],\n",
       "        [ 16,  25,  36]],\n",
       "\n",
       "       [[ 49,  64,  81],\n",
       "        [100, 121, 144]],\n",
       "\n",
       "       [[169, 196, 225],\n",
       "        [256, 289, 361]]])"
      ]
     },
     "execution_count": 8,
     "metadata": {},
     "output_type": "execute_result"
    }
   ],
   "source": [
    "a3 * a3"
   ]
  },
  {
   "cell_type": "code",
   "execution_count": 9,
   "id": "df6bf475",
   "metadata": {},
   "outputs": [
    {
     "data": {
      "text/plain": [
       "array([[[[7, 3, 2, 7, 9],\n",
       "         [4, 4, 1, 3, 2],\n",
       "         [8, 0, 1, 8, 3],\n",
       "         [8, 2, 5, 5, 0]],\n",
       "\n",
       "        [[1, 4, 5, 4, 9],\n",
       "         [8, 1, 1, 9, 8],\n",
       "         [5, 1, 4, 5, 9],\n",
       "         [8, 7, 8, 2, 6]],\n",
       "\n",
       "        [[6, 2, 1, 4, 1],\n",
       "         [3, 5, 1, 4, 4],\n",
       "         [1, 5, 7, 8, 6],\n",
       "         [2, 1, 2, 2, 4]]],\n",
       "\n",
       "\n",
       "       [[[9, 8, 1, 8, 8],\n",
       "         [9, 2, 3, 4, 5],\n",
       "         [5, 1, 6, 3, 4],\n",
       "         [6, 0, 7, 0, 6]],\n",
       "\n",
       "        [[1, 8, 2, 9, 0],\n",
       "         [1, 5, 8, 6, 6],\n",
       "         [8, 2, 7, 1, 5],\n",
       "         [3, 4, 9, 5, 9]],\n",
       "\n",
       "        [[0, 7, 0, 3, 4],\n",
       "         [5, 8, 8, 6, 4],\n",
       "         [3, 9, 8, 6, 8],\n",
       "         [8, 4, 2, 5, 3]]]])"
      ]
     },
     "execution_count": 9,
     "metadata": {},
     "output_type": "execute_result"
    }
   ],
   "source": [
    "a4"
   ]
  },
  {
   "cell_type": "code",
   "execution_count": 21,
   "id": "a46b17d5",
   "metadata": {},
   "outputs": [
    {
     "data": {
      "text/plain": [
       "(array([[1, 3, 5],\n",
       "        [9, 1, 9]]),\n",
       " array([[3, 8],\n",
       "        [1, 3],\n",
       "        [3, 7]]))"
      ]
     },
     "execution_count": 21,
     "metadata": {},
     "output_type": "execute_result"
    }
   ],
   "source": [
    "m1 = np.random.randint(1, 10, size=(2,3))\n",
    "m2 = np.random.randint(1, 10, size=(3,2))\n",
    "m1, m2"
   ]
  },
  {
   "cell_type": "code",
   "execution_count": 22,
   "id": "cae1bc47",
   "metadata": {},
   "outputs": [],
   "source": [
    "m3 = m2.reshape(2,3)"
   ]
  },
  {
   "cell_type": "code",
   "execution_count": 23,
   "id": "fd544010",
   "metadata": {},
   "outputs": [
    {
     "data": {
      "text/plain": [
       "array([[3, 8, 1],\n",
       "       [3, 3, 7]])"
      ]
     },
     "execution_count": 23,
     "metadata": {},
     "output_type": "execute_result"
    }
   ],
   "source": [
    "m3"
   ]
  },
  {
   "cell_type": "code",
   "execution_count": 24,
   "id": "ba076e74",
   "metadata": {},
   "outputs": [
    {
     "data": {
      "text/plain": [
       "array([[ 3, 24,  5],\n",
       "       [27,  3, 63]])"
      ]
     },
     "execution_count": 24,
     "metadata": {},
     "output_type": "execute_result"
    }
   ],
   "source": [
    "m1 * m3"
   ]
  },
  {
   "cell_type": "code",
   "execution_count": 25,
   "id": "07b5d93b",
   "metadata": {},
   "outputs": [
    {
     "data": {
      "text/plain": [
       "array([[0, 0, 5],\n",
       "       [3, 0, 1]])"
      ]
     },
     "execution_count": 25,
     "metadata": {},
     "output_type": "execute_result"
    }
   ],
   "source": [
    "# Floor division removes decimals (rounds down)\n",
    "m1 // m3"
   ]
  },
  {
   "cell_type": "code",
   "execution_count": 26,
   "id": "44544891",
   "metadata": {},
   "outputs": [
    {
     "data": {
      "text/plain": [
       "array([[0.33333333, 0.375     , 5.        ],\n",
       "       [3.        , 0.33333333, 1.28571429]])"
      ]
     },
     "execution_count": 26,
     "metadata": {},
     "output_type": "execute_result"
    }
   ],
   "source": [
    "# normal division\n",
    "m1 / m3"
   ]
  },
  {
   "cell_type": "code",
   "execution_count": 27,
   "id": "254a214b",
   "metadata": {},
   "outputs": [
    {
     "data": {
      "text/plain": [
       "array([[ 1,  9, 25],\n",
       "       [81,  1, 81]])"
      ]
     },
     "execution_count": 27,
     "metadata": {},
     "output_type": "execute_result"
    }
   ],
   "source": [
    "np.square(m1)"
   ]
  },
  {
   "cell_type": "code",
   "execution_count": 28,
   "id": "4b5c0538",
   "metadata": {},
   "outputs": [
    {
     "data": {
      "text/plain": [
       "array([[1, 1, 1],\n",
       "       [1, 1, 1]], dtype=int32)"
      ]
     },
     "execution_count": 28,
     "metadata": {},
     "output_type": "execute_result"
    }
   ],
   "source": [
    "m1 % 2"
   ]
  },
  {
   "cell_type": "code",
   "execution_count": 29,
   "id": "8d0833ed",
   "metadata": {},
   "outputs": [
    {
     "data": {
      "text/plain": [
       "array([[1, 0, 4],\n",
       "       [0, 1, 0]], dtype=int32)"
      ]
     },
     "execution_count": 29,
     "metadata": {},
     "output_type": "execute_result"
    }
   ],
   "source": [
    "np.square(m1 % 3)"
   ]
  },
  {
   "cell_type": "markdown",
   "id": "2cb00bc6",
   "metadata": {},
   "source": [
    "# Aggregation"
   ]
  },
  {
   "cell_type": "markdown",
   "id": "fc148caf",
   "metadata": {},
   "source": [
    "The formation of a number of things into a cluster"
   ]
  },
  {
   "cell_type": "code",
   "execution_count": 31,
   "id": "18515c69",
   "metadata": {},
   "outputs": [
    {
     "data": {
      "text/plain": [
       "(list, 6)"
      ]
     },
     "execution_count": 31,
     "metadata": {},
     "output_type": "execute_result"
    }
   ],
   "source": [
    "new_list = [1, 2, 3]\n",
    "type(new_list), sum(new_list)"
   ]
  },
  {
   "cell_type": "code",
   "execution_count": 33,
   "id": "e4b1916c",
   "metadata": {},
   "outputs": [
    {
     "data": {
      "text/plain": [
       "(numpy.ndarray, 6)"
      ]
     },
     "execution_count": 33,
     "metadata": {},
     "output_type": "execute_result"
    }
   ],
   "source": [
    "type(a1), sum(a1)"
   ]
  },
  {
   "cell_type": "markdown",
   "id": "b890873e",
   "metadata": {},
   "source": [
    "Use Python methods on Python datatypes (`sum()`)\n",
    "Use NumPy methods on NumPy arrays (`np.sum()`)"
   ]
  },
  {
   "cell_type": "code",
   "execution_count": 34,
   "id": "2e98a556",
   "metadata": {},
   "outputs": [
    {
     "data": {
      "text/plain": [
       "(100000,\n",
       " array([0.70222692, 0.01840286, 0.97162179, 0.38740551, 0.90278319,\n",
       "        0.61838126, 0.18001439, 0.81424623, 0.6180121 , 0.20220877]))"
      ]
     },
     "execution_count": 34,
     "metadata": {},
     "output_type": "execute_result"
    }
   ],
   "source": [
    "# create a massive NumPy array\n",
    "massive = np.random.random(100000)\n",
    "massive.size, massive[:10]"
   ]
  },
  {
   "cell_type": "code",
   "execution_count": 40,
   "id": "390488c7",
   "metadata": {},
   "outputs": [
    {
     "name": "stdout",
     "output_type": "stream",
     "text": [
      "5.47 ms ± 107 µs per loop (mean ± std. dev. of 7 runs, 100 loops each)\n",
      "29 µs ± 1.2 µs per loop (mean ± std. dev. of 7 runs, 10,000 loops each)\n"
     ]
    },
    {
     "data": {
      "text/plain": [
       "(50020.13054082567, 50020.1305408264)"
      ]
     },
     "execution_count": 40,
     "metadata": {},
     "output_type": "execute_result"
    }
   ],
   "source": [
    "# time how long it takes to perform an opperation\n",
    "%timeit sum(massive) # Python sum\n",
    "%timeit np.sum(massive) #NumPy sum\n",
    "sum(massive), np.sum(massive)"
   ]
  },
  {
   "cell_type": "code",
   "execution_count": 43,
   "id": "657e21da",
   "metadata": {},
   "outputs": [
    {
     "name": "stdout",
     "output_type": "stream",
     "text": [
      "32.8 µs ± 2.72 µs per loop (mean ± std. dev. of 7 runs, 10,000 loops each)\n",
      "32.9 µs ± 1.99 µs per loop (mean ± std. dev. of 7 runs, 10,000 loops each)\n"
     ]
    },
    {
     "data": {
      "text/plain": [
       "(0.500201305408264, 0.500201305408264)"
      ]
     },
     "execution_count": 43,
     "metadata": {},
     "output_type": "execute_result"
    }
   ],
   "source": [
    "%timeit massive.mean()\n",
    "%timeit np.mean(massive)\n",
    "massive.mean(), np.mean(massive)"
   ]
  },
  {
   "cell_type": "markdown",
   "id": "74d6c82d",
   "metadata": {},
   "source": [
    "## Standard Deviation\n",
    "How spread out a group of numbers is from the mean; the average distance every number is from the mean"
   ]
  },
  {
   "cell_type": "code",
   "execution_count": 46,
   "id": "7c57abb4",
   "metadata": {},
   "outputs": [
    {
     "data": {
      "text/plain": [
       "0.28849921441609977"
      ]
     },
     "execution_count": 46,
     "metadata": {},
     "output_type": "execute_result"
    }
   ],
   "source": [
    "np.std(massive)"
   ]
  },
  {
   "cell_type": "markdown",
   "id": "1153b6de",
   "metadata": {},
   "source": [
    "## Variance\n",
    "Measure of the average degree to which each number is different from the mean"
   ]
  },
  {
   "cell_type": "code",
   "execution_count": 45,
   "id": "a67478e1",
   "metadata": {},
   "outputs": [
    {
     "data": {
      "text/plain": [
       "0.08323179671870672"
      ]
     },
     "execution_count": 45,
     "metadata": {},
     "output_type": "execute_result"
    }
   ],
   "source": [
    "np.var(massive)"
   ]
  },
  {
   "cell_type": "code",
   "execution_count": 47,
   "id": "474cd514",
   "metadata": {},
   "outputs": [
    {
     "data": {
      "text/plain": [
       "(array([   1,  100,  200,  300, 4000, 5000]), array([ 2,  3,  5,  6,  8, 10]))"
      ]
     },
     "execution_count": 47,
     "metadata": {},
     "output_type": "execute_result"
    }
   ],
   "source": [
    "high_var_array = np.array([1, 100, 200, 300, 4000, 5000])\n",
    "low_var_array = np.array([2, 3, 5, 6, 8, 10])\n",
    "high_var_array, low_var_array"
   ]
  },
  {
   "cell_type": "code",
   "execution_count": 48,
   "id": "7e1312d0",
   "metadata": {},
   "outputs": [
    {
     "data": {
      "text/plain": [
       "(4296133.472222221, 7.5555555555555545)"
      ]
     },
     "execution_count": 48,
     "metadata": {},
     "output_type": "execute_result"
    }
   ],
   "source": [
    "np.var(high_var_array), np.var(low_var_array)"
   ]
  },
  {
   "cell_type": "code",
   "execution_count": 49,
   "id": "c620c210",
   "metadata": {},
   "outputs": [
    {
     "data": {
      "text/plain": [
       "(2072.711623024829, 2.748737083745107)"
      ]
     },
     "execution_count": 49,
     "metadata": {},
     "output_type": "execute_result"
    }
   ],
   "source": [
    "np.std(high_var_array), np.std(low_var_array)"
   ]
  },
  {
   "cell_type": "code",
   "execution_count": 50,
   "id": "46ee3ea3",
   "metadata": {},
   "outputs": [
    {
     "data": {
      "text/plain": [
       "(1600.1666666666667, 5.666666666666667)"
      ]
     },
     "execution_count": 50,
     "metadata": {},
     "output_type": "execute_result"
    }
   ],
   "source": [
    "np.mean(high_var_array), np.mean(low_var_array)"
   ]
  },
  {
   "cell_type": "code",
   "execution_count": 51,
   "id": "5ea9ac2d",
   "metadata": {},
   "outputs": [
    {
     "data": {
      "image/png": "[encoded data removed]",
      "text/plain": [
       "<Figure size 640x480 with 1 Axes>"
      ]
     },
     "metadata": {},
     "output_type": "display_data"
    }
   ],
   "source": [
    "import matplotlib.pyplot as plt\n",
    "plt.hist(high_var_array)\n",
    "plt.show()"
   ]
  },
  {
   "cell_type": "code",
   "execution_count": 52,
   "id": "80bc4733",
   "metadata": {},
   "outputs": [
    {
     "data": {
      "image/png": "[encoded data removed]",
      "text/plain": [
       "<Figure size 640x480 with 1 Axes>"
      ]
     },
     "metadata": {},
     "output_type": "display_data"
    }
   ],
   "source": [
    "plt.hist(low_var_array)\n",
    "plt.show()"
   ]
  },
  {
   "cell_type": "markdown",
   "id": "cbf5d125",
   "metadata": {},
   "source": [
    "# Reshape and Transpose\n"
   ]
  },
  {
   "cell_type": "code",
   "execution_count": 56,
   "id": "2eb32c47",
   "metadata": {},
   "outputs": [
    {
     "data": {
      "text/plain": [
       "(array([[[2, 9],\n",
       "         [1, 1],\n",
       "         [7, 1]],\n",
       " \n",
       "        [[7, 1],\n",
       "         [4, 1],\n",
       "         [4, 3]]]),\n",
       " array([[[4, 2],\n",
       "         [2, 8]],\n",
       " \n",
       "        [[2, 3],\n",
       "         [8, 3]],\n",
       " \n",
       "        [[3, 3],\n",
       "         [9, 3]]]))"
      ]
     },
     "execution_count": 56,
     "metadata": {},
     "output_type": "execute_result"
    }
   ],
   "source": [
    "b1 = np.random.randint(1, 10, size=(2,3,2))\n",
    "b2 = np.random.randint(1, 10, size=(3,2,2))\n",
    "b1, b2"
   ]
  },
  {
   "cell_type": "markdown",
   "id": "6a87346e",
   "metadata": {},
   "source": [
    "## Reshape"
   ]
  },
  {
   "cell_type": "code",
   "execution_count": 57,
   "id": "c098a8c7",
   "metadata": {},
   "outputs": [
    {
     "data": {
      "text/plain": [
       "(3, 2, 2)"
      ]
     },
     "execution_count": 57,
     "metadata": {},
     "output_type": "execute_result"
    }
   ],
   "source": [
    "b2.shape"
   ]
  },
  {
   "cell_type": "code",
   "execution_count": 61,
   "id": "d2c157c3",
   "metadata": {},
   "outputs": [
    {
     "data": {
      "text/plain": [
       "array([[[4, 2],\n",
       "        [2, 8],\n",
       "        [2, 3]],\n",
       "\n",
       "       [[8, 3],\n",
       "        [3, 3],\n",
       "        [9, 3]]])"
      ]
     },
     "execution_count": 61,
     "metadata": {},
     "output_type": "execute_result"
    }
   ],
   "source": [
    "b2_r = b2.reshape(2,3,2)\n",
    "b2_r"
   ]
  },
  {
   "cell_type": "code",
   "execution_count": 62,
   "id": "c7990d88",
   "metadata": {},
   "outputs": [
    {
     "data": {
      "text/plain": [
       "array([[[ 8, 18],\n",
       "        [ 2,  8],\n",
       "        [14,  3]],\n",
       "\n",
       "       [[56,  3],\n",
       "        [12,  3],\n",
       "        [36,  9]]])"
      ]
     },
     "execution_count": 62,
     "metadata": {},
     "output_type": "execute_result"
    }
   ],
   "source": [
    "b1 * b2_r"
   ]
  },
  {
   "cell_type": "markdown",
   "id": "9d8d8883",
   "metadata": {},
   "source": [
    "## Transpose"
   ]
  },
  {
   "cell_type": "markdown",
   "id": "76fb614c",
   "metadata": {},
   "source": [
    "Switches the axis'"
   ]
  },
  {
   "cell_type": "code",
   "execution_count": 76,
   "id": "42a2b15a",
   "metadata": {},
   "outputs": [
    {
     "data": {
      "text/plain": [
       "(array([[1. , 2. , 3.3],\n",
       "        [4. , 5. , 6.5]]),\n",
       " (2, 3))"
      ]
     },
     "execution_count": 76,
     "metadata": {},
     "output_type": "execute_result"
    }
   ],
   "source": [
    "a2, a2.shape"
   ]
  },
  {
   "cell_type": "code",
   "execution_count": 77,
   "id": "78003704",
   "metadata": {},
   "outputs": [
    {
     "data": {
      "text/plain": [
       "(array([[1. , 4. ],\n",
       "        [2. , 5. ],\n",
       "        [3.3, 6.5]]),\n",
       " (3, 2))"
      ]
     },
     "execution_count": 77,
     "metadata": {},
     "output_type": "execute_result"
    }
   ],
   "source": [
    "a2.T, a2.T.shape"
   ]
  },
  {
   "cell_type": "code",
   "execution_count": 74,
   "id": "16eb67ff",
   "metadata": {},
   "outputs": [
    {
     "data": {
      "text/plain": [
       "(array([[[ 1,  2,  3],\n",
       "         [ 4,  5,  6]],\n",
       " \n",
       "        [[ 7,  8,  9],\n",
       "         [10, 11, 12]],\n",
       " \n",
       "        [[13, 14, 15],\n",
       "         [16, 17, 19]]]),\n",
       " (3, 2, 3))"
      ]
     },
     "execution_count": 74,
     "metadata": {},
     "output_type": "execute_result"
    }
   ],
   "source": [
    "a3, a3.shape"
   ]
  },
  {
   "cell_type": "code",
   "execution_count": 75,
   "id": "7e83933d",
   "metadata": {},
   "outputs": [
    {
     "data": {
      "text/plain": [
       "(array([[[ 1,  7, 13],\n",
       "         [ 4, 10, 16]],\n",
       " \n",
       "        [[ 2,  8, 14],\n",
       "         [ 5, 11, 17]],\n",
       " \n",
       "        [[ 3,  9, 15],\n",
       "         [ 6, 12, 19]]]),\n",
       " (3, 2, 3))"
      ]
     },
     "execution_count": 75,
     "metadata": {},
     "output_type": "execute_result"
    }
   ],
   "source": [
    "a3.T, a3.T.shape"
   ]
  },
  {
   "cell_type": "code",
   "execution_count": null,
   "id": "af04cc8f",
   "metadata": {},
   "outputs": [],
   "source": []
  }
 ],
 "metadata": {
  "kernelspec": {
   "display_name": "Python 3 (ipykernel)",
   "language": "python",
   "name": "python3"
  },
  "language_info": {
   "codemirror_mode": {
    "name": "ipython",
    "version": 3
   },
   "file_extension": ".py",
   "mimetype": "text/x-python",
   "name": "python",
   "nbconvert_exporter": "python",
   "pygments_lexer": "ipython3",
   "version": "3.10.12"
  }
 },
 "nbformat": 4,
 "nbformat_minor": 5
}
