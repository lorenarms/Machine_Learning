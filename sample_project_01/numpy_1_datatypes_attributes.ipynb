{
 "cells": [
  {
   "cell_type": "markdown",
   "id": "158d080a",
   "metadata": {},
   "source": [
    "# DataTypes & Attributes"
   ]
  },
  {
   "cell_type": "code",
   "execution_count": 16,
   "id": "7aa78b43",
   "metadata": {},
   "outputs": [],
   "source": [
    "import numpy as np"
   ]
  },
  {
   "cell_type": "code",
   "execution_count": 17,
   "id": "a5f9e287",
   "metadata": {},
   "outputs": [
    {
     "data": {
      "text/plain": [
       "array([1, 2, 3])"
      ]
     },
     "execution_count": 17,
     "metadata": {},
     "output_type": "execute_result"
    }
   ],
   "source": [
    "# NumPy's main datatype is ndarray\n",
    "# n-dimensional array\n",
    "\n",
    "# vector\n",
    "a1 = np.array([1, 2, 3])\n",
    "a1"
   ]
  },
  {
   "cell_type": "code",
   "execution_count": 18,
   "id": "6548c8d2",
   "metadata": {},
   "outputs": [
    {
     "data": {
      "text/plain": [
       "numpy.ndarray"
      ]
     },
     "execution_count": 18,
     "metadata": {},
     "output_type": "execute_result"
    }
   ],
   "source": [
    "type(a1)"
   ]
  },
  {
   "cell_type": "code",
   "execution_count": 19,
   "id": "dc75cee2",
   "metadata": {},
   "outputs": [],
   "source": [
    "# matrix\n",
    "a2 = np.array([[1, 2.0, 3.3],\n",
    "               [4, 5, 6.5]])\n",
    "\n",
    "# 3-dimensional array with depth of 2\n",
    "a3 = np.array([[[1, 2, 3],\n",
    "                [4, 5, 6],\n",
    "                [7, 8, 9]],\n",
    "                [[10, 11, 12],\n",
    "                 [13, 14, 15],\n",
    "                 [16, 17, 18]]])"
   ]
  },
  {
   "cell_type": "code",
   "execution_count": 20,
   "id": "298fedef",
   "metadata": {},
   "outputs": [
    {
     "data": {
      "text/plain": [
       "array([[1. , 2. , 3.3],\n",
       "       [4. , 5. , 6.5]])"
      ]
     },
     "execution_count": 20,
     "metadata": {},
     "output_type": "execute_result"
    }
   ],
   "source": [
    "a2"
   ]
  },
  {
   "cell_type": "code",
   "execution_count": 21,
   "id": "b49aa574",
   "metadata": {},
   "outputs": [
    {
     "data": {
      "text/plain": [
       "array([[[ 1,  2,  3],\n",
       "        [ 4,  5,  6],\n",
       "        [ 7,  8,  9]],\n",
       "\n",
       "       [[10, 11, 12],\n",
       "        [13, 14, 15],\n",
       "        [16, 17, 18]]])"
      ]
     },
     "execution_count": 21,
     "metadata": {},
     "output_type": "execute_result"
    }
   ],
   "source": [
    "a3"
   ]
  },
  {
   "cell_type": "code",
   "execution_count": 22,
   "id": "417da3a8",
   "metadata": {},
   "outputs": [
    {
     "data": {
      "text/plain": [
       "(2, 3, 3)"
      ]
     },
     "execution_count": 22,
     "metadata": {},
     "output_type": "execute_result"
    }
   ],
   "source": [
    "a3.shape"
   ]
  },
  {
   "cell_type": "code",
   "execution_count": 23,
   "id": "2fc714ea",
   "metadata": {},
   "outputs": [],
   "source": [
    "# 3-dimensional array with dept of '3'\n",
    "a4 = np.array([[[1, 2, 3],\n",
    "                [4, 5, 6]],\n",
    "               [[7, 8, 9],\n",
    "                [10, 11, 12]],\n",
    "               [[13, 14, 15],\n",
    "                [16, 17, 19]]])\n"
   ]
  },
  {
   "cell_type": "code",
   "execution_count": 24,
   "id": "1b36f533",
   "metadata": {},
   "outputs": [
    {
     "data": {
      "text/plain": [
       "array([[[ 1,  2,  3],\n",
       "        [ 4,  5,  6]],\n",
       "\n",
       "       [[ 7,  8,  9],\n",
       "        [10, 11, 12]],\n",
       "\n",
       "       [[13, 14, 15],\n",
       "        [16, 17, 19]]])"
      ]
     },
     "execution_count": 24,
     "metadata": {},
     "output_type": "execute_result"
    }
   ],
   "source": [
    "a4"
   ]
  },
  {
   "cell_type": "code",
   "execution_count": 25,
   "id": "69cb8d86",
   "metadata": {},
   "outputs": [
    {
     "data": {
      "text/plain": [
       "(3, 2, 3)"
      ]
     },
     "execution_count": 25,
     "metadata": {},
     "output_type": "execute_result"
    }
   ],
   "source": [
    "# row, columns, depth\n",
    "a4.shape"
   ]
  },
  {
   "cell_type": "code",
   "execution_count": 26,
   "id": "906636cf",
   "metadata": {},
   "outputs": [
    {
     "data": {
      "text/plain": [
       "(1, 2, 3, 3)"
      ]
     },
     "execution_count": 26,
     "metadata": {},
     "output_type": "execute_result"
    }
   ],
   "source": [
    "# dimensions of the above arrays\n",
    "a1.ndim, a2.ndim, a3.ndim, a4.ndim"
   ]
  },
  {
   "cell_type": "code",
   "execution_count": 29,
   "id": "e0e0287d",
   "metadata": {},
   "outputs": [
    {
     "data": {
      "text/plain": [
       "(3, 6, 18, 18)"
      ]
     },
     "execution_count": 29,
     "metadata": {},
     "output_type": "execute_result"
    }
   ],
   "source": [
    "# number of items in array\n",
    "a1.size, a2.size, a3.size, a4.size"
   ]
  },
  {
   "cell_type": "code",
   "execution_count": 28,
   "id": "e37e35a0",
   "metadata": {},
   "outputs": [
    {
     "data": {
      "text/plain": [
       "(dtype('int32'), dtype('float64'), dtype('int32'), dtype('int32'))"
      ]
     },
     "execution_count": 28,
     "metadata": {},
     "output_type": "execute_result"
    }
   ],
   "source": [
    "# types of elements in array\n",
    "a1.dtype, a2.dtype,a3.dtype, a4.dtype"
   ]
  },
  {
   "cell_type": "code",
   "execution_count": 30,
   "id": "ed054f0a",
   "metadata": {},
   "outputs": [
    {
     "data": {
      "text/plain": [
       "(numpy.ndarray, numpy.ndarray, numpy.ndarray, numpy.ndarray)"
      ]
     },
     "execution_count": 30,
     "metadata": {},
     "output_type": "execute_result"
    }
   ],
   "source": [
    "type(a1), type(a2), type(a3), type(a4)"
   ]
  },
  {
   "cell_type": "markdown",
   "id": "64e6793f",
   "metadata": {},
   "source": [
    "### Create a dataframe from a NumPy array"
   ]
  },
  {
   "cell_type": "code",
   "execution_count": 31,
   "id": "32847e91",
   "metadata": {},
   "outputs": [
    {
     "data": {
      "text/html": [
       "<div>\n",
       "<style scoped>\n",
       "    .dataframe tbody tr th:only-of-type {\n",
       "        vertical-align: middle;\n",
       "    }\n",
       "\n",
       "    .dataframe tbody tr th {\n",
       "        vertical-align: top;\n",
       "    }\n",
       "\n",
       "    .dataframe thead th {\n",
       "        text-align: right;\n",
       "    }\n",
       "</style>\n",
       "<table border=\"1\" class=\"dataframe\">\n",
       "  <thead>\n",
       "    <tr style=\"text-align: right;\">\n",
       "      <th></th>\n",
       "      <th>0</th>\n",
       "      <th>1</th>\n",
       "      <th>2</th>\n",
       "    </tr>\n",
       "  </thead>\n",
       "  <tbody>\n",
       "    <tr>\n",
       "      <th>0</th>\n",
       "      <td>1.0</td>\n",
       "      <td>2.0</td>\n",
       "      <td>3.3</td>\n",
       "    </tr>\n",
       "    <tr>\n",
       "      <th>1</th>\n",
       "      <td>4.0</td>\n",
       "      <td>5.0</td>\n",
       "      <td>6.5</td>\n",
       "    </tr>\n",
       "  </tbody>\n",
       "</table>\n",
       "</div>"
      ],
      "text/plain": [
       "     0    1    2\n",
       "0  1.0  2.0  3.3\n",
       "1  4.0  5.0  6.5"
      ]
     },
     "execution_count": 31,
     "metadata": {},
     "output_type": "execute_result"
    }
   ],
   "source": [
    "import pandas as pd\n",
    "df = pd.DataFrame(a2)\n",
    "df"
   ]
  },
  {
   "cell_type": "code",
   "execution_count": 33,
   "id": "c157e2cb",
   "metadata": {},
   "outputs": [],
   "source": [
    "# only works on matrices"
   ]
  },
  {
   "cell_type": "markdown",
   "id": "71af2937",
   "metadata": {},
   "source": [
    "# Creating NumPy Arrays"
   ]
  },
  {
   "cell_type": "markdown",
   "id": "c1343ec0",
   "metadata": {},
   "source": [
    "### Automatic Creation"
   ]
  },
  {
   "cell_type": "code",
   "execution_count": 38,
   "id": "cf511145",
   "metadata": {},
   "outputs": [
    {
     "data": {
      "text/plain": [
       "array([[1, 1, 1],\n",
       "       [1, 1, 1]])"
      ]
     },
     "execution_count": 38,
     "metadata": {},
     "output_type": "execute_result"
    }
   ],
   "source": [
    "ones = np.ones((2,3), int)\n",
    "ones"
   ]
  },
  {
   "cell_type": "code",
   "execution_count": 39,
   "id": "284b36e6",
   "metadata": {},
   "outputs": [
    {
     "data": {
      "text/plain": [
       "array([[0, 0, 0],\n",
       "       [0, 0, 0],\n",
       "       [0, 0, 0]])"
      ]
     },
     "execution_count": 39,
     "metadata": {},
     "output_type": "execute_result"
    }
   ],
   "source": [
    "zeros = np.zeros((3,3), int)\n",
    "zeros"
   ]
  },
  {
   "cell_type": "code",
   "execution_count": 40,
   "id": "c25ff3a7",
   "metadata": {},
   "outputs": [
    {
     "data": {
      "text/plain": [
       "array([[[1, 1, 1],\n",
       "        [1, 1, 1],\n",
       "        [1, 1, 1]],\n",
       "\n",
       "       [[1, 1, 1],\n",
       "        [1, 1, 1],\n",
       "        [1, 1, 1]]])"
      ]
     },
     "execution_count": 40,
     "metadata": {},
     "output_type": "execute_result"
    }
   ],
   "source": [
    "ones_three_d = np.ones((2,3,3), int)\n",
    "ones_three_d"
   ]
  },
  {
   "cell_type": "code",
   "execution_count": 41,
   "id": "ea4d23a9",
   "metadata": {},
   "outputs": [
    {
     "data": {
      "text/plain": [
       "array([0, 2, 4, 6, 8])"
      ]
     },
     "execution_count": 41,
     "metadata": {},
     "output_type": "execute_result"
    }
   ],
   "source": [
    "# start, stop, step\n",
    "range_array = np.arange(0, 10, 2)\n",
    "range_array"
   ]
  },
  {
   "cell_type": "markdown",
   "id": "06fabb52",
   "metadata": {},
   "source": [
    "### Random Array Creation"
   ]
  },
  {
   "cell_type": "code",
   "execution_count": 42,
   "id": "855afb70",
   "metadata": {},
   "outputs": [
    {
     "data": {
      "text/plain": [
       "array([[4, 1, 6, 1, 0],\n",
       "       [6, 8, 5, 0, 6],\n",
       "       [7, 9, 2, 5, 3]])"
      ]
     },
     "execution_count": 42,
     "metadata": {},
     "output_type": "execute_result"
    }
   ],
   "source": [
    "# random array, type(low, high, size())\n",
    "random_array = np.random.randint(0, 10, size=(3,5))\n",
    "random_array"
   ]
  },
  {
   "cell_type": "code",
   "execution_count": 45,
   "id": "fd71bc39",
   "metadata": {},
   "outputs": [
    {
     "data": {
      "text/plain": [
       "array([[0.96067419, 0.19153692, 0.75372687],\n",
       "       [0.09752803, 0.17970657, 0.62359848],\n",
       "       [0.31542786, 0.4734048 , 0.11270552],\n",
       "       [0.66338946, 0.80394333, 0.68245592],\n",
       "       [0.38340043, 0.76274507, 0.34329229]])"
      ]
     },
     "execution_count": 45,
     "metadata": {},
     "output_type": "execute_result"
    }
   ],
   "source": [
    "random_array_2 = np.random.random((5,3))\n",
    "random_array_2"
   ]
  },
  {
   "cell_type": "code",
   "execution_count": 46,
   "id": "3da1c6c9",
   "metadata": {},
   "outputs": [
    {
     "data": {
      "text/plain": [
       "array([[0.94945516, 0.40900073, 0.0729255 ],\n",
       "       [0.28034401, 0.00868137, 0.73216909],\n",
       "       [0.44300646, 0.86938742, 0.55714384],\n",
       "       [0.83106084, 0.19735521, 0.8011305 ],\n",
       "       [0.48120728, 0.61831359, 0.33309168]])"
      ]
     },
     "execution_count": 46,
     "metadata": {},
     "output_type": "execute_result"
    }
   ],
   "source": [
    "random_array_3 = np.random.rand(5,3)\n",
    "random_array_3"
   ]
  },
  {
   "cell_type": "code",
   "execution_count": 47,
   "id": "4f22632c",
   "metadata": {},
   "outputs": [],
   "source": [
    "# note: these are pseudo-random numbers"
   ]
  },
  {
   "cell_type": "markdown",
   "id": "74e3f99d",
   "metadata": {},
   "source": [
    "# NumPy Seed"
   ]
  },
  {
   "cell_type": "markdown",
   "id": "3704ee1d",
   "metadata": {},
   "source": [
    "### Controlling the Random Numbers"
   ]
  },
  {
   "cell_type": "code",
   "execution_count": 56,
   "id": "69c9240e",
   "metadata": {},
   "outputs": [
    {
     "data": {
      "text/plain": [
       "array([[5, 0, 3],\n",
       "       [3, 7, 9],\n",
       "       [3, 5, 2],\n",
       "       [4, 7, 6],\n",
       "       [8, 8, 1]])"
      ]
     },
     "execution_count": 56,
     "metadata": {},
     "output_type": "execute_result"
    }
   ],
   "source": [
    "np.random.seed(0)\n",
    "rand_array_4 = np.random.randint(10, size=(5, 3))\n",
    "rand_array_4"
   ]
  },
  {
   "cell_type": "code",
   "execution_count": 60,
   "id": "22d06947",
   "metadata": {},
   "outputs": [
    {
     "data": {
      "text/plain": [
       "array([[0.22199317, 0.87073231, 0.20671916, 0.91861091, 0.48841119],\n",
       "       [0.61174386, 0.76590786, 0.51841799, 0.2968005 , 0.18772123],\n",
       "       [0.08074127, 0.7384403 , 0.44130922, 0.15830987, 0.87993703]])"
      ]
     },
     "execution_count": 60,
     "metadata": {},
     "output_type": "execute_result"
    }
   ],
   "source": [
    "np.random.seed(5)\n",
    "rand_array_5 = np.random.random(size=(3, 5))\n",
    "rand_array_5"
   ]
  },
  {
   "cell_type": "markdown",
   "id": "fe51a555",
   "metadata": {},
   "source": [
    "# Viewing Arrays / Matrices"
   ]
  },
  {
   "cell_type": "markdown",
   "id": "c227cb46",
   "metadata": {},
   "source": [
    "### Showing Parts of Array"
   ]
  },
  {
   "cell_type": "code",
   "execution_count": 62,
   "id": "61a0b916",
   "metadata": {},
   "outputs": [
    {
     "data": {
      "text/plain": [
       "array([0, 1, 2, 3, 4, 5, 6, 7, 8, 9])"
      ]
     },
     "execution_count": 62,
     "metadata": {},
     "output_type": "execute_result"
    }
   ],
   "source": [
    "np.unique(rand_array_4)"
   ]
  },
  {
   "cell_type": "code",
   "execution_count": 63,
   "id": "678e2010",
   "metadata": {},
   "outputs": [
    {
     "data": {
      "text/plain": [
       "(array([1, 2, 3]),\n",
       " array([[1. , 2. , 3.3],\n",
       "        [4. , 5. , 6.5]]),\n",
       " array([[[ 1,  2,  3],\n",
       "         [ 4,  5,  6],\n",
       "         [ 7,  8,  9]],\n",
       " \n",
       "        [[10, 11, 12],\n",
       "         [13, 14, 15],\n",
       "         [16, 17, 18]]]))"
      ]
     },
     "execution_count": 63,
     "metadata": {},
     "output_type": "execute_result"
    }
   ],
   "source": [
    "a1, a2, a3"
   ]
  },
  {
   "cell_type": "code",
   "execution_count": 64,
   "id": "9c06ec89",
   "metadata": {},
   "outputs": [
    {
     "data": {
      "text/plain": [
       "2.0"
      ]
     },
     "execution_count": 64,
     "metadata": {},
     "output_type": "execute_result"
    }
   ],
   "source": [
    "# view by index\n",
    "a2[0,1]"
   ]
  },
  {
   "cell_type": "code",
   "execution_count": 65,
   "id": "dada3753",
   "metadata": {},
   "outputs": [
    {
     "data": {
      "text/plain": [
       "6"
      ]
     },
     "execution_count": 65,
     "metadata": {},
     "output_type": "execute_result"
    }
   ],
   "source": [
    "a4[0,1,2]"
   ]
  },
  {
   "cell_type": "code",
   "execution_count": 66,
   "id": "f4f8ce90",
   "metadata": {},
   "outputs": [
    {
     "data": {
      "text/plain": [
       "array([[13, 14, 15],\n",
       "       [16, 17, 19]])"
      ]
     },
     "execution_count": 66,
     "metadata": {},
     "output_type": "execute_result"
    }
   ],
   "source": [
    "a4[2]"
   ]
  },
  {
   "cell_type": "code",
   "execution_count": 67,
   "id": "475553f0",
   "metadata": {},
   "outputs": [
    {
     "data": {
      "text/plain": [
       "array([[[ 1,  2],\n",
       "        [ 4,  5]],\n",
       "\n",
       "       [[10, 11],\n",
       "        [13, 14]]])"
      ]
     },
     "execution_count": 67,
     "metadata": {},
     "output_type": "execute_result"
    }
   ],
   "source": [
    "# array slicing, return the first two of each part of the array\n",
    "a3[:2, :2, :2]"
   ]
  },
  {
   "cell_type": "code",
   "execution_count": 68,
   "id": "f5edc443",
   "metadata": {},
   "outputs": [
    {
     "data": {
      "text/plain": [
       "array([[[1, 2],\n",
       "        [4, 5]]])"
      ]
     },
     "execution_count": 68,
     "metadata": {},
     "output_type": "execute_result"
    }
   ],
   "source": [
    "a3[:1,:2,:2]"
   ]
  },
  {
   "cell_type": "markdown",
   "id": "5abc7f07",
   "metadata": {},
   "source": [
    "## Array Slicing Defined"
   ]
  },
  {
   "cell_type": "code",
   "execution_count": 69,
   "id": "52c78a3a",
   "metadata": {},
   "outputs": [
    {
     "data": {
      "text/plain": [
       "array([[[[4, 6, 2, 9, 9],\n",
       "         [9, 9, 1, 2, 7],\n",
       "         [0, 5, 0, 0, 4],\n",
       "         [4, 9, 3, 2, 4]],\n",
       "\n",
       "        [[6, 9, 3, 3, 2],\n",
       "         [1, 5, 7, 4, 3],\n",
       "         [1, 7, 3, 1, 9],\n",
       "         [5, 7, 0, 9, 6]],\n",
       "\n",
       "        [[0, 5, 2, 8, 6],\n",
       "         [8, 0, 5, 2, 0],\n",
       "         [7, 7, 6, 0, 0],\n",
       "         [8, 5, 5, 9, 6]]],\n",
       "\n",
       "\n",
       "       [[[4, 5, 2, 8, 8],\n",
       "         [1, 6, 3, 4, 1],\n",
       "         [8, 0, 2, 2, 4],\n",
       "         [1, 6, 3, 4, 3]],\n",
       "\n",
       "        [[1, 4, 2, 3, 4],\n",
       "         [9, 4, 0, 6, 6],\n",
       "         [9, 2, 9, 3, 0],\n",
       "         [8, 8, 9, 7, 4]],\n",
       "\n",
       "        [[8, 6, 8, 0, 5],\n",
       "         [3, 4, 0, 2, 2],\n",
       "         [1, 1, 7, 1, 7],\n",
       "         [2, 6, 3, 6, 8]]]])"
      ]
     },
     "execution_count": 69,
     "metadata": {},
     "output_type": "execute_result"
    }
   ],
   "source": [
    "# four-dimensional array slicing\n",
    "a5 = np.random.randint(10, size=(2, 3, 4, 5))\n",
    "a5"
   ]
  },
  {
   "cell_type": "code",
   "execution_count": 70,
   "id": "f29793d3",
   "metadata": {},
   "outputs": [
    {
     "data": {
      "text/plain": [
       "((2, 3, 4, 5), 4)"
      ]
     },
     "execution_count": 70,
     "metadata": {},
     "output_type": "execute_result"
    }
   ],
   "source": [
    "# shape: works backwards from right to left\n",
    "# 5 = number of elements in a row\n",
    "# 4 = number of rows in a matrix\n",
    "# 3 = number of matrices in a group\n",
    "# 2 = number of groups in the array\n",
    "a5.shape, a5.ndim"
   ]
  },
  {
   "cell_type": "code",
   "execution_count": 72,
   "id": "56302a4b",
   "metadata": {},
   "outputs": [
    {
     "data": {
      "text/plain": [
       "array([[[[4, 6, 2, 9],\n",
       "         [9, 9, 1, 2],\n",
       "         [0, 5, 0, 0],\n",
       "         [4, 9, 3, 2]],\n",
       "\n",
       "        [[6, 9, 3, 3],\n",
       "         [1, 5, 7, 4],\n",
       "         [1, 7, 3, 1],\n",
       "         [5, 7, 0, 9]],\n",
       "\n",
       "        [[0, 5, 2, 8],\n",
       "         [8, 0, 5, 2],\n",
       "         [7, 7, 6, 0],\n",
       "         [8, 5, 5, 9]]],\n",
       "\n",
       "\n",
       "       [[[4, 5, 2, 8],\n",
       "         [1, 6, 3, 4],\n",
       "         [8, 0, 2, 2],\n",
       "         [1, 6, 3, 4]],\n",
       "\n",
       "        [[1, 4, 2, 3],\n",
       "         [9, 4, 0, 6],\n",
       "         [9, 2, 9, 3],\n",
       "         [8, 8, 9, 7]],\n",
       "\n",
       "        [[8, 6, 8, 0],\n",
       "         [3, 4, 0, 2],\n",
       "         [1, 1, 7, 1],\n",
       "         [2, 6, 3, 6]]]])"
      ]
     },
     "execution_count": 72,
     "metadata": {},
     "output_type": "execute_result"
    }
   ],
   "source": [
    "# return the first four numbers of each row of each inner matrix\n",
    "a5[:, :, :, :4]"
   ]
  },
  {
   "cell_type": "code",
   "execution_count": 85,
   "id": "7db9dc2f",
   "metadata": {},
   "outputs": [
    {
     "data": {
      "text/plain": [
       "array([[[[4, 6, 2, 9, 9]],\n",
       "\n",
       "        [[6, 9, 3, 3, 2]],\n",
       "\n",
       "        [[0, 5, 2, 8, 6]]],\n",
       "\n",
       "\n",
       "       [[[4, 5, 2, 8, 8]],\n",
       "\n",
       "        [[1, 4, 2, 3, 4]],\n",
       "\n",
       "        [[8, 6, 8, 0, 5]]]])"
      ]
     },
     "execution_count": 85,
     "metadata": {},
     "output_type": "execute_result"
    }
   ],
   "source": [
    "# return just the first rows of all matrices\n",
    "a5[:, :, :1, :5]"
   ]
  },
  {
   "cell_type": "code",
   "execution_count": 93,
   "id": "758f2ad3",
   "metadata": {},
   "outputs": [
    {
     "data": {
      "text/plain": [
       "array([[[[4, 9, 3, 2, 4]],\n",
       "\n",
       "        [[5, 7, 0, 9, 6]],\n",
       "\n",
       "        [[8, 5, 5, 9, 6]]],\n",
       "\n",
       "\n",
       "       [[[1, 6, 3, 4, 3]],\n",
       "\n",
       "        [[8, 8, 9, 7, 4]],\n",
       "\n",
       "        [[2, 6, 3, 6, 8]]]])"
      ]
     },
     "execution_count": 93,
     "metadata": {},
     "output_type": "execute_result"
    }
   ],
   "source": [
    "# return the last row of each matrix\n",
    "a5[:, :, 3:4, :5]"
   ]
  },
  {
   "cell_type": "code",
   "execution_count": 94,
   "id": "a6e34e88",
   "metadata": {},
   "outputs": [
    {
     "data": {
      "text/plain": [
       "array([[[[0]],\n",
       "\n",
       "        [[1]],\n",
       "\n",
       "        [[0]]],\n",
       "\n",
       "\n",
       "       [[[2]],\n",
       "\n",
       "        [[3]],\n",
       "\n",
       "        [[1]]]])"
      ]
     },
     "execution_count": 94,
     "metadata": {},
     "output_type": "execute_result"
    }
   ],
   "source": [
    "# return the fourth element of each 3rd row\n",
    "a5[:, :, 2:3, 3:4 ]"
   ]
  },
  {
   "cell_type": "code",
   "execution_count": 95,
   "id": "89718095",
   "metadata": {},
   "outputs": [
    {
     "data": {
      "text/plain": [
       "array([[[[2]],\n",
       "\n",
       "        [[3]],\n",
       "\n",
       "        [[1]]]])"
      ]
     },
     "execution_count": 95,
     "metadata": {},
     "output_type": "execute_result"
    }
   ],
   "source": [
    "# return the third element of the fourth row of matrices \n",
    "# only in the second set\n",
    "a5[1:2, :, 2:3, 3:4 ]"
   ]
  },
  {
   "cell_type": "code",
   "execution_count": null,
   "id": "71ce3bb3",
   "metadata": {},
   "outputs": [],
   "source": [
    "# sytax:\n",
    "# X:Y\n",
    "# X = starting point, non-inclusive. leave blank to include all\n",
    "# Y = ending point, inclusive. Leave blank to include all\n"
   ]
  }
 ],
 "metadata": {
  "kernelspec": {
   "display_name": "Python 3 (ipykernel)",
   "language": "python",
   "name": "python3"
  },
  "language_info": {
   "codemirror_mode": {
    "name": "ipython",
    "version": 3
   },
   "file_extension": ".py",
   "mimetype": "text/x-python",
   "name": "python",
   "nbconvert_exporter": "python",
   "pygments_lexer": "ipython3",
   "version": "3.10.12"
  }
 },
 "nbformat": 4,
 "nbformat_minor": 5
}
