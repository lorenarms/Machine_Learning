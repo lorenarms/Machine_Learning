{
 "cells": [
  {
   "cell_type": "code",
   "execution_count": 19,
   "id": "e274a89f",
   "metadata": {},
   "outputs": [
    {
     "name": "stderr",
     "output_type": "stream",
     "text": [
      "C:\\Users\\Lawrence\\AppData\\Local\\Temp\\ipykernel_992\\2331118109.py:2: DtypeWarning: Columns (10) have mixed types. Specify dtype option on import or set low_memory=False.\n",
      "  dep = pd.read_csv(\"../data/U.S._Chronic_Disease_Indicators__CDI_.csv\")\n"
     ]
    }
   ],
   "source": [
    "import pandas as pd\n",
    "dep = pd.read_csv(\"../data/U.S._Chronic_Disease_Indicators__CDI_.csv\")"
   ]
  },
  {
   "cell_type": "code",
   "execution_count": 20,
   "id": "e8f52c51",
   "metadata": {},
   "outputs": [
    {
     "data": {
      "text/plain": [
       "YearStart                      int64\n",
       "YearEnd                        int64\n",
       "LocationAbbr                  object\n",
       "LocationDesc                  object\n",
       "DataSource                    object\n",
       "Topic                         object\n",
       "Question                      object\n",
       "Response                     float64\n",
       "DataValueUnit                 object\n",
       "DataValueType                 object\n",
       "DataValue                     object\n",
       "DataValueAlt                 float64\n",
       "DataValueFootnoteSymbol       object\n",
       "DatavalueFootnote             object\n",
       "LowConfidenceLimit           float64\n",
       "HighConfidenceLimit          float64\n",
       "StratificationCategory1       object\n",
       "Stratification1               object\n",
       "StratificationCategory2      float64\n",
       "Stratification2              float64\n",
       "StratificationCategory3      float64\n",
       "Stratification3              float64\n",
       "GeoLocation                   object\n",
       "ResponseID                   float64\n",
       "LocationID                     int64\n",
       "TopicID                       object\n",
       "QuestionID                    object\n",
       "DataValueTypeID               object\n",
       "StratificationCategoryID1     object\n",
       "StratificationID1             object\n",
       "StratificationCategoryID2    float64\n",
       "StratificationID2            float64\n",
       "StratificationCategoryID3    float64\n",
       "StratificationID3            float64\n",
       "dtype: object"
      ]
     },
     "execution_count": 20,
     "metadata": {},
     "output_type": "execute_result"
    }
   ],
   "source": [
    "dep.dtypes"
   ]
  },
  {
   "cell_type": "code",
   "execution_count": 21,
   "id": "0a29df59",
   "metadata": {},
   "outputs": [
    {
     "data": {
      "text/plain": [
       "1185676"
      ]
     },
     "execution_count": 21,
     "metadata": {},
     "output_type": "execute_result"
    }
   ],
   "source": [
    "len(dep)"
   ]
  },
  {
   "cell_type": "code",
   "execution_count": 23,
   "id": "f494af2d",
   "metadata": {},
   "outputs": [
    {
     "data": {
      "text/plain": [
       "YearStart                          0\n",
       "YearEnd                            0\n",
       "LocationAbbr                       0\n",
       "LocationDesc                       0\n",
       "DataSource                         0\n",
       "Topic                              0\n",
       "Question                           0\n",
       "Response                     1185676\n",
       "DataValueUnit                 152123\n",
       "DataValueType                      0\n",
       "DataValue                     378734\n",
       "DataValueAlt                  381098\n",
       "DataValueFootnoteSymbol       791966\n",
       "DatavalueFootnote             791966\n",
       "LowConfidenceLimit            503296\n",
       "HighConfidenceLimit           503296\n",
       "StratificationCategory1            0\n",
       "Stratification1                    0\n",
       "StratificationCategory2      1185676\n",
       "Stratification2              1185676\n",
       "StratificationCategory3      1185676\n",
       "Stratification3              1185676\n",
       "GeoLocation                    10166\n",
       "ResponseID                   1185676\n",
       "LocationID                         0\n",
       "TopicID                            0\n",
       "QuestionID                         0\n",
       "DataValueTypeID                    0\n",
       "StratificationCategoryID1          0\n",
       "StratificationID1                  0\n",
       "StratificationCategoryID2    1185676\n",
       "StratificationID2            1185676\n",
       "StratificationCategoryID3    1185676\n",
       "StratificationID3            1185676\n",
       "dtype: int64"
      ]
     },
     "execution_count": 23,
     "metadata": {},
     "output_type": "execute_result"
    }
   ],
   "source": [
    "dep.isna().sum()"
   ]
  },
  {
   "cell_type": "code",
   "execution_count": null,
   "id": "08db44a7",
   "metadata": {},
   "outputs": [],
   "source": []
  }
 ],
 "metadata": {
  "kernelspec": {
   "display_name": "Python 3 (ipykernel)",
   "language": "python",
   "name": "python3"
  },
  "language_info": {
   "codemirror_mode": {
    "name": "ipython",
    "version": 3
   },
   "file_extension": ".py",
   "mimetype": "text/x-python",
   "name": "python",
   "nbconvert_exporter": "python",
   "pygments_lexer": "ipython3",
   "version": "3.10.12"
  }
 },
 "nbformat": 4,
 "nbformat_minor": 5
}
