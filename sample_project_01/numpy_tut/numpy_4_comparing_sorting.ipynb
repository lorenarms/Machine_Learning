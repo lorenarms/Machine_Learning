{
 "cells": [
  {
   "cell_type": "markdown",
   "id": "3460f47d",
   "metadata": {},
   "source": [
    "# Comparison Operators"
   ]
  },
  {
   "cell_type": "code",
   "execution_count": 1,
   "id": "f9beeeef",
   "metadata": {},
   "outputs": [],
   "source": [
    "import numpy as np\n",
    "import matplotlib as plt\n",
    "import pandas as pd\n",
    "\n",
    "a1 = np.array([1, 2, 3])\n",
    "a2 = np.array([[1, 2.0, 3.3],\n",
    "               [4, 5, 6.5]])\n",
    "a3 = np.array([[[1, 2, 3],\n",
    "                [4, 5, 6]],\n",
    "               [[7, 8, 9],\n",
    "                [10, 11, 12]],\n",
    "               [[13, 14, 15],\n",
    "                [16, 17, 19]]])\n",
    "a4 = np.random.randint(10, size=(2, 3, 4, 5))\n",
    "\n",
    "b1 = np.random.randint(1, 10, size=(2,3,2))\n",
    "b2 = np.random.randint(1, 10, size=(3,2,2))\n",
    "\n",
    "massive = np.random.random(100000)"
   ]
  },
  {
   "cell_type": "code",
   "execution_count": 2,
   "id": "2e85e952",
   "metadata": {},
   "outputs": [
    {
     "data": {
      "text/plain": [
       "(array([1, 2, 3]),\n",
       " array([[1. , 2. , 3.3],\n",
       "        [4. , 5. , 6.5]]))"
      ]
     },
     "execution_count": 2,
     "metadata": {},
     "output_type": "execute_result"
    }
   ],
   "source": [
    "a1, a2"
   ]
  },
  {
   "cell_type": "code",
   "execution_count": 3,
   "id": "9c99bddd",
   "metadata": {},
   "outputs": [
    {
     "data": {
      "text/plain": [
       "array([[False, False, False],\n",
       "       [False, False, False]])"
      ]
     },
     "execution_count": 3,
     "metadata": {},
     "output_type": "execute_result"
    }
   ],
   "source": [
    "a1 > a2"
   ]
  },
  {
   "cell_type": "code",
   "execution_count": 6,
   "id": "3c085a4d",
   "metadata": {},
   "outputs": [
    {
     "data": {
      "text/plain": [
       "array([[False, False,  True],\n",
       "       [ True,  True,  True]])"
      ]
     },
     "execution_count": 6,
     "metadata": {},
     "output_type": "execute_result"
    }
   ],
   "source": [
    "a1 < a2"
   ]
  },
  {
   "cell_type": "code",
   "execution_count": 7,
   "id": "32823d18",
   "metadata": {},
   "outputs": [],
   "source": [
    "bool_array = a1 == a2"
   ]
  },
  {
   "cell_type": "code",
   "execution_count": 8,
   "id": "74aeb051",
   "metadata": {},
   "outputs": [
    {
     "data": {
      "text/plain": [
       "(dtype('bool'),\n",
       " numpy.ndarray,\n",
       " array([[ True,  True, False],\n",
       "        [False, False, False]]))"
      ]
     },
     "execution_count": 8,
     "metadata": {},
     "output_type": "execute_result"
    }
   ],
   "source": [
    "bool_array.dtype, type(bool_array), bool_array"
   ]
  },
  {
   "cell_type": "markdown",
   "id": "bb58bb4e",
   "metadata": {},
   "source": [
    "# Sorting Arrays"
   ]
  },
  {
   "cell_type": "code",
   "execution_count": 9,
   "id": "3c416a51",
   "metadata": {},
   "outputs": [
    {
     "data": {
      "text/plain": [
       "array([[2, 1, 5, 4, 8],\n",
       "       [0, 0, 2, 2, 7],\n",
       "       [0, 3, 2, 3, 3]])"
      ]
     },
     "execution_count": 9,
     "metadata": {},
     "output_type": "execute_result"
    }
   ],
   "source": [
    "r1 = np.random.randint(10, size=(3,5))\n",
    "r1"
   ]
  },
  {
   "cell_type": "code",
   "execution_count": 16,
   "id": "8756929e",
   "metadata": {},
   "outputs": [
    {
     "data": {
      "text/plain": [
       "array([[0.28830702, 0.35940123, 0.59462801, 0.92030634, 0.02230919],\n",
       "       [0.38193287, 0.98483122, 0.31536152, 0.26090379, 0.4140894 ],\n",
       "       [0.67865066, 0.76480633, 0.77369933, 0.29541082, 0.99258121]])"
      ]
     },
     "execution_count": 16,
     "metadata": {},
     "output_type": "execute_result"
    }
   ],
   "source": [
    "r2 = np.random.rand(3,5)\n",
    "r2"
   ]
  },
  {
   "cell_type": "code",
   "execution_count": 12,
   "id": "7b556340",
   "metadata": {},
   "outputs": [
    {
     "data": {
      "text/plain": [
       "array([[1, 2, 4, 5, 8],\n",
       "       [0, 0, 2, 2, 7],\n",
       "       [0, 2, 3, 3, 3]])"
      ]
     },
     "execution_count": 12,
     "metadata": {},
     "output_type": "execute_result"
    }
   ],
   "source": [
    "np.sort(r1)"
   ]
  },
  {
   "cell_type": "code",
   "execution_count": 17,
   "id": "006614d7",
   "metadata": {},
   "outputs": [
    {
     "data": {
      "text/plain": [
       "array([[4, 0, 1, 2, 3],\n",
       "       [3, 2, 0, 4, 1],\n",
       "       [3, 0, 1, 2, 4]], dtype=int64)"
      ]
     },
     "execution_count": 17,
     "metadata": {},
     "output_type": "execute_result"
    }
   ],
   "source": [
    "# which index has the highest value\n",
    "# the result is an array of indecies\n",
    "np.argsort(r2)"
   ]
  },
  {
   "cell_type": "code",
   "execution_count": 18,
   "id": "0d3d38be",
   "metadata": {},
   "outputs": [
    {
     "data": {
      "text/plain": [
       "4"
      ]
     },
     "execution_count": 18,
     "metadata": {},
     "output_type": "execute_result"
    }
   ],
   "source": [
    "# minium number is at which index?\n",
    "np.argmin(r2)"
   ]
  },
  {
   "cell_type": "code",
   "execution_count": 19,
   "id": "ca1a7499",
   "metadata": {},
   "outputs": [
    {
     "data": {
      "text/plain": [
       "14"
      ]
     },
     "execution_count": 19,
     "metadata": {},
     "output_type": "execute_result"
    }
   ],
   "source": [
    "# what about the maximum?\n",
    "np.argmax(r2)"
   ]
  },
  {
   "cell_type": "code",
   "execution_count": 26,
   "id": "7cd46f53",
   "metadata": {},
   "outputs": [
    {
     "data": {
      "text/plain": [
       "array([2, 1, 2, 0, 2], dtype=int64)"
      ]
     },
     "execution_count": 26,
     "metadata": {},
     "output_type": "execute_result"
    }
   ],
   "source": [
    "# shows the index with the highest value at each COLUMN\n",
    "np.argmax(r2, axis=0)"
   ]
  },
  {
   "cell_type": "code",
   "execution_count": 27,
   "id": "48e7b74d",
   "metadata": {},
   "outputs": [
    {
     "data": {
      "text/plain": [
       "array([3, 1, 4], dtype=int64)"
      ]
     },
     "execution_count": 27,
     "metadata": {},
     "output_type": "execute_result"
    }
   ],
   "source": [
    "# same as above but now for ROW\n",
    "np.argmax(r2, axis=1)"
   ]
  },
  {
   "cell_type": "code",
   "execution_count": 47,
   "id": "ce68a46d",
   "metadata": {},
   "outputs": [
    {
     "data": {
      "text/plain": [
       "(0.9203063388919394, 0.984831223929224, 0.9925812145087434)"
      ]
     },
     "execution_count": 47,
     "metadata": {},
     "output_type": "execute_result"
    }
   ],
   "source": [
    "# show those maximums\n",
    "r2[0,3],r2[1,1],r2[2,4]"
   ]
  },
  {
   "cell_type": "code",
   "execution_count": null,
   "id": "cf6c316e",
   "metadata": {},
   "outputs": [],
   "source": []
  }
 ],
 "metadata": {
  "kernelspec": {
   "display_name": "Python 3 (ipykernel)",
   "language": "python",
   "name": "python3"
  },
  "language_info": {
   "codemirror_mode": {
    "name": "ipython",
    "version": 3
   },
   "file_extension": ".py",
   "mimetype": "text/x-python",
   "name": "python",
   "nbconvert_exporter": "python",
   "pygments_lexer": "ipython3",
   "version": "3.10.12"
  }
 },
 "nbformat": 4,
 "nbformat_minor": 5
}
