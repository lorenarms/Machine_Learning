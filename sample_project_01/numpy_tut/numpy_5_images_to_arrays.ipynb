{
 "cells": [
  {
   "cell_type": "markdown",
   "id": "753b8bec",
   "metadata": {},
   "source": [
    "# Images to NumPy Arrays"
   ]
  },
  {
   "cell_type": "code",
   "execution_count": 2,
   "id": "32448fbd",
   "metadata": {},
   "outputs": [],
   "source": [
    "import numpy as np\n",
    "import matplotlib as plt\n",
    "import pandas as pd\n",
    "\n",
    "a1 = np.array([1, 2, 3])\n",
    "a2 = np.array([[1, 2.0, 3.3],\n",
    "               [4, 5, 6.5]])\n",
    "a3 = np.array([[[1, 2, 3],\n",
    "                [4, 5, 6]],\n",
    "               [[7, 8, 9],\n",
    "                [10, 11, 12]],\n",
    "               [[13, 14, 15],\n",
    "                [16, 17, 19]]])\n",
    "a4 = np.random.randint(10, size=(2, 3, 4, 5))\n",
    "\n",
    "b1 = np.random.randint(1, 10, size=(2,3,2))\n",
    "b2 = np.random.randint(1, 10, size=(3,2,2))\n",
    "\n",
    "massive = np.random.random(100000)"
   ]
  },
  {
   "cell_type": "markdown",
   "id": "2d0bd0f1",
   "metadata": {},
   "source": [
    "<img src=\"ranger.jpg\"/>"
   ]
  },
  {
   "cell_type": "code",
   "execution_count": 3,
   "id": "e30e79a7",
   "metadata": {},
   "outputs": [
    {
     "name": "stdout",
     "output_type": "stream",
     "text": [
      "<class 'numpy.ndarray'>\n"
     ]
    }
   ],
   "source": [
    "from matplotlib.image import imread\n",
    "\n",
    "ranger = imread(\"ranger.jpg\")\n",
    "print(type(ranger))"
   ]
  },
  {
   "cell_type": "code",
   "execution_count": 7,
   "id": "1b6a420d",
   "metadata": {},
   "outputs": [
    {
     "data": {
      "text/plain": [
       "(3943296, (1141, 1152, 3), 3)"
      ]
     },
     "execution_count": 7,
     "metadata": {},
     "output_type": "execute_result"
    }
   ],
   "source": [
    "ranger.size, ranger.shape, ranger.ndim "
   ]
  },
  {
   "cell_type": "code",
   "execution_count": 8,
   "id": "f56c85c9",
   "metadata": {},
   "outputs": [
    {
     "data": {
      "text/plain": [
       "array([[[194, 211, 192],\n",
       "        [194, 211, 192],\n",
       "        [194, 211, 192],\n",
       "        ...,\n",
       "        [251, 242, 237],\n",
       "        [251, 242, 237],\n",
       "        [251, 242, 237]]], dtype=uint8)"
      ]
     },
     "execution_count": 8,
     "metadata": {},
     "output_type": "execute_result"
    }
   ],
   "source": [
    "ranger[:1]"
   ]
  },
  {
   "cell_type": "code",
   "execution_count": null,
   "id": "0e2f4827",
   "metadata": {},
   "outputs": [],
   "source": []
  }
 ],
 "metadata": {
  "kernelspec": {
   "display_name": "Python 3 (ipykernel)",
   "language": "python",
   "name": "python3"
  },
  "language_info": {
   "codemirror_mode": {
    "name": "ipython",
    "version": 3
   },
   "file_extension": ".py",
   "mimetype": "text/x-python",
   "name": "python",
   "nbconvert_exporter": "python",
   "pygments_lexer": "ipython3",
   "version": "3.10.12"
  }
 },
 "nbformat": 4,
 "nbformat_minor": 5
}
