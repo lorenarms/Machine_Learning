{
 "cells": [
  {
   "cell_type": "code",
   "execution_count": 6,
   "id": "c6c97df2",
   "metadata": {},
   "outputs": [
    {
     "data": {
      "text/plain": [
       "0       BMW\n",
       "1    Toyota\n",
       "2     Honda\n",
       "dtype: object"
      ]
     },
     "execution_count": 6,
     "metadata": {},
     "output_type": "execute_result"
    }
   ],
   "source": [
    "import pandas as pd\n",
    "\n",
    "# 2 main datatypes\n",
    "# series: 1-dimensional\n",
    "\n",
    "series = pd.Series([\"BMW\", \"Toyota\", \"Honda\"])\n",
    "\n",
    "series"
   ]
  },
  {
   "cell_type": "code",
   "execution_count": 7,
   "id": "33035b7b",
   "metadata": {},
   "outputs": [
    {
     "data": {
      "text/plain": [
       "0      Red\n",
       "1     Blue\n",
       "2    White\n",
       "dtype: object"
      ]
     },
     "execution_count": 7,
     "metadata": {},
     "output_type": "execute_result"
    }
   ],
   "source": [
    "colors = pd.Series([\"Red\",\"Blue\",\"White\"])\n",
    "colors"
   ]
  },
  {
   "cell_type": "code",
   "execution_count": 8,
   "id": "7265dc83",
   "metadata": {},
   "outputs": [
    {
     "data": {
      "text/html": [
       "<div>\n",
       "<style scoped>\n",
       "    .dataframe tbody tr th:only-of-type {\n",
       "        vertical-align: middle;\n",
       "    }\n",
       "\n",
       "    .dataframe tbody tr th {\n",
       "        vertical-align: top;\n",
       "    }\n",
       "\n",
       "    .dataframe thead th {\n",
       "        text-align: right;\n",
       "    }\n",
       "</style>\n",
       "<table border=\"1\" class=\"dataframe\">\n",
       "  <thead>\n",
       "    <tr style=\"text-align: right;\">\n",
       "      <th></th>\n",
       "      <th>Car Make</th>\n",
       "      <th>Colors</th>\n",
       "    </tr>\n",
       "  </thead>\n",
       "  <tbody>\n",
       "    <tr>\n",
       "      <th>0</th>\n",
       "      <td>BMW</td>\n",
       "      <td>Red</td>\n",
       "    </tr>\n",
       "    <tr>\n",
       "      <th>1</th>\n",
       "      <td>Toyota</td>\n",
       "      <td>Blue</td>\n",
       "    </tr>\n",
       "    <tr>\n",
       "      <th>2</th>\n",
       "      <td>Honda</td>\n",
       "      <td>White</td>\n",
       "    </tr>\n",
       "  </tbody>\n",
       "</table>\n",
       "</div>"
      ],
      "text/plain": [
       "  Car Make Colors\n",
       "0      BMW    Red\n",
       "1   Toyota   Blue\n",
       "2    Honda  White"
      ]
     },
     "execution_count": 8,
     "metadata": {},
     "output_type": "execute_result"
    }
   ],
   "source": [
    "# dataframe: 2-dimensional, takes Python dictionary\n",
    "\n",
    "car_data = pd.DataFrame({\"Car Make\": series, \"Colors\":colors})\n",
    "\n",
    "car_data"
   ]
  },
  {
   "cell_type": "code",
   "execution_count": 9,
   "id": "193c5bb2",
   "metadata": {},
   "outputs": [
    {
     "data": {
      "text/html": [
       "<div>\n",
       "<style scoped>\n",
       "    .dataframe tbody tr th:only-of-type {\n",
       "        vertical-align: middle;\n",
       "    }\n",
       "\n",
       "    .dataframe tbody tr th {\n",
       "        vertical-align: top;\n",
       "    }\n",
       "\n",
       "    .dataframe thead th {\n",
       "        text-align: right;\n",
       "    }\n",
       "</style>\n",
       "<table border=\"1\" class=\"dataframe\">\n",
       "  <thead>\n",
       "    <tr style=\"text-align: right;\">\n",
       "      <th></th>\n",
       "      <th>Make</th>\n",
       "      <th>Colour</th>\n",
       "      <th>Odometer (KM)</th>\n",
       "      <th>Doors</th>\n",
       "      <th>Price</th>\n",
       "    </tr>\n",
       "  </thead>\n",
       "  <tbody>\n",
       "    <tr>\n",
       "      <th>0</th>\n",
       "      <td>Toyota</td>\n",
       "      <td>White</td>\n",
       "      <td>150043</td>\n",
       "      <td>4</td>\n",
       "      <td>$4,000.00</td>\n",
       "    </tr>\n",
       "    <tr>\n",
       "      <th>1</th>\n",
       "      <td>Honda</td>\n",
       "      <td>Red</td>\n",
       "      <td>87899</td>\n",
       "      <td>4</td>\n",
       "      <td>$5,000.00</td>\n",
       "    </tr>\n",
       "    <tr>\n",
       "      <th>2</th>\n",
       "      <td>Toyota</td>\n",
       "      <td>Blue</td>\n",
       "      <td>32549</td>\n",
       "      <td>3</td>\n",
       "      <td>$7,000.00</td>\n",
       "    </tr>\n",
       "    <tr>\n",
       "      <th>3</th>\n",
       "      <td>BMW</td>\n",
       "      <td>Black</td>\n",
       "      <td>11179</td>\n",
       "      <td>5</td>\n",
       "      <td>$22,000.00</td>\n",
       "    </tr>\n",
       "    <tr>\n",
       "      <th>4</th>\n",
       "      <td>Nissan</td>\n",
       "      <td>White</td>\n",
       "      <td>213095</td>\n",
       "      <td>4</td>\n",
       "      <td>$3,500.00</td>\n",
       "    </tr>\n",
       "    <tr>\n",
       "      <th>5</th>\n",
       "      <td>Toyota</td>\n",
       "      <td>Green</td>\n",
       "      <td>99213</td>\n",
       "      <td>4</td>\n",
       "      <td>$4,500.00</td>\n",
       "    </tr>\n",
       "    <tr>\n",
       "      <th>6</th>\n",
       "      <td>Honda</td>\n",
       "      <td>Blue</td>\n",
       "      <td>45698</td>\n",
       "      <td>4</td>\n",
       "      <td>$7,500.00</td>\n",
       "    </tr>\n",
       "    <tr>\n",
       "      <th>7</th>\n",
       "      <td>Honda</td>\n",
       "      <td>Blue</td>\n",
       "      <td>54738</td>\n",
       "      <td>4</td>\n",
       "      <td>$7,000.00</td>\n",
       "    </tr>\n",
       "    <tr>\n",
       "      <th>8</th>\n",
       "      <td>Toyota</td>\n",
       "      <td>White</td>\n",
       "      <td>60000</td>\n",
       "      <td>4</td>\n",
       "      <td>$6,250.00</td>\n",
       "    </tr>\n",
       "    <tr>\n",
       "      <th>9</th>\n",
       "      <td>Nissan</td>\n",
       "      <td>White</td>\n",
       "      <td>31600</td>\n",
       "      <td>4</td>\n",
       "      <td>$9,700.00</td>\n",
       "    </tr>\n",
       "  </tbody>\n",
       "</table>\n",
       "</div>"
      ],
      "text/plain": [
       "     Make Colour  Odometer (KM)  Doors       Price\n",
       "0  Toyota  White         150043      4   $4,000.00\n",
       "1   Honda    Red          87899      4   $5,000.00\n",
       "2  Toyota   Blue          32549      3   $7,000.00\n",
       "3     BMW  Black          11179      5  $22,000.00\n",
       "4  Nissan  White         213095      4   $3,500.00\n",
       "5  Toyota  Green          99213      4   $4,500.00\n",
       "6   Honda   Blue          45698      4   $7,500.00\n",
       "7   Honda   Blue          54738      4   $7,000.00\n",
       "8  Toyota  White          60000      4   $6,250.00\n",
       "9  Nissan  White          31600      4   $9,700.00"
      ]
     },
     "execution_count": 9,
     "metadata": {},
     "output_type": "execute_result"
    }
   ],
   "source": [
    "# Import data from csv\n",
    "car_sales = pd.read_csv(\"../data/car-sales.csv\")\n",
    "\n",
    "car_sales"
   ]
  },
  {
   "cell_type": "code",
   "execution_count": 10,
   "id": "15f3ef8b",
   "metadata": {},
   "outputs": [
    {
     "data": {
      "text/html": [
       "<div>\n",
       "<style scoped>\n",
       "    .dataframe tbody tr th:only-of-type {\n",
       "        vertical-align: middle;\n",
       "    }\n",
       "\n",
       "    .dataframe tbody tr th {\n",
       "        vertical-align: top;\n",
       "    }\n",
       "\n",
       "    .dataframe thead th {\n",
       "        text-align: right;\n",
       "    }\n",
       "</style>\n",
       "<table border=\"1\" class=\"dataframe\">\n",
       "  <thead>\n",
       "    <tr style=\"text-align: right;\">\n",
       "      <th></th>\n",
       "      <th>Make</th>\n",
       "      <th>Colour</th>\n",
       "      <th>Odometer (KM)</th>\n",
       "      <th>Doors</th>\n",
       "      <th>Price</th>\n",
       "    </tr>\n",
       "  </thead>\n",
       "  <tbody>\n",
       "    <tr>\n",
       "      <th>0</th>\n",
       "      <td>Toyota</td>\n",
       "      <td>White</td>\n",
       "      <td>150043</td>\n",
       "      <td>4</td>\n",
       "      <td>$4,000.00</td>\n",
       "    </tr>\n",
       "    <tr>\n",
       "      <th>1</th>\n",
       "      <td>Honda</td>\n",
       "      <td>Red</td>\n",
       "      <td>87899</td>\n",
       "      <td>4</td>\n",
       "      <td>$5,000.00</td>\n",
       "    </tr>\n",
       "    <tr>\n",
       "      <th>2</th>\n",
       "      <td>Toyota</td>\n",
       "      <td>Blue</td>\n",
       "      <td>32549</td>\n",
       "      <td>3</td>\n",
       "      <td>$7,000.00</td>\n",
       "    </tr>\n",
       "    <tr>\n",
       "      <th>3</th>\n",
       "      <td>BMW</td>\n",
       "      <td>Black</td>\n",
       "      <td>11179</td>\n",
       "      <td>5</td>\n",
       "      <td>$22,000.00</td>\n",
       "    </tr>\n",
       "    <tr>\n",
       "      <th>4</th>\n",
       "      <td>Nissan</td>\n",
       "      <td>White</td>\n",
       "      <td>213095</td>\n",
       "      <td>4</td>\n",
       "      <td>$3,500.00</td>\n",
       "    </tr>\n",
       "    <tr>\n",
       "      <th>5</th>\n",
       "      <td>Toyota</td>\n",
       "      <td>Green</td>\n",
       "      <td>99213</td>\n",
       "      <td>4</td>\n",
       "      <td>$4,500.00</td>\n",
       "    </tr>\n",
       "    <tr>\n",
       "      <th>6</th>\n",
       "      <td>Honda</td>\n",
       "      <td>Blue</td>\n",
       "      <td>45698</td>\n",
       "      <td>4</td>\n",
       "      <td>$7,500.00</td>\n",
       "    </tr>\n",
       "    <tr>\n",
       "      <th>7</th>\n",
       "      <td>Honda</td>\n",
       "      <td>Blue</td>\n",
       "      <td>54738</td>\n",
       "      <td>4</td>\n",
       "      <td>$7,000.00</td>\n",
       "    </tr>\n",
       "    <tr>\n",
       "      <th>8</th>\n",
       "      <td>Toyota</td>\n",
       "      <td>White</td>\n",
       "      <td>60000</td>\n",
       "      <td>4</td>\n",
       "      <td>$6,250.00</td>\n",
       "    </tr>\n",
       "    <tr>\n",
       "      <th>9</th>\n",
       "      <td>Nissan</td>\n",
       "      <td>White</td>\n",
       "      <td>31600</td>\n",
       "      <td>4</td>\n",
       "      <td>$9,700.00</td>\n",
       "    </tr>\n",
       "  </tbody>\n",
       "</table>\n",
       "</div>"
      ],
      "text/plain": [
       "     Make Colour  Odometer (KM)  Doors       Price\n",
       "0  Toyota  White         150043      4   $4,000.00\n",
       "1   Honda    Red          87899      4   $5,000.00\n",
       "2  Toyota   Blue          32549      3   $7,000.00\n",
       "3     BMW  Black          11179      5  $22,000.00\n",
       "4  Nissan  White         213095      4   $3,500.00\n",
       "5  Toyota  Green          99213      4   $4,500.00\n",
       "6   Honda   Blue          45698      4   $7,500.00\n",
       "7   Honda   Blue          54738      4   $7,000.00\n",
       "8  Toyota  White          60000      4   $6,250.00\n",
       "9  Nissan  White          31600      4   $9,700.00"
      ]
     },
     "execution_count": 10,
     "metadata": {},
     "output_type": "execute_result"
    }
   ],
   "source": [
    "# Export dataframe (after changes, if necessary)\n",
    "# remove index column when indexing\n",
    "car_sales.to_csv(\"exported_car_sales.csv\", index=False)\n",
    "\n",
    "exported_car_sales = pd.read_csv(\"exported_car_sales.csv\")\n",
    "\n",
    "exported_car_sales"
   ]
  },
  {
   "cell_type": "markdown",
   "id": "2956be69",
   "metadata": {},
   "source": [
    "## Build a dataframe from existing matrices"
   ]
  },
  {
   "cell_type": "code",
   "execution_count": 25,
   "id": "6582ea89",
   "metadata": {},
   "outputs": [],
   "source": [
    "data = [[0.89, 0.11],\n",
    "       [0.49, 0.51],\n",
    "       [0.43, 0.57],\n",
    "       [0.84, 0.16],\n",
    "       [0.18, 0.82]]"
   ]
  },
  {
   "cell_type": "code",
   "execution_count": 26,
   "id": "74d50b15",
   "metadata": {},
   "outputs": [],
   "source": [
    "more_data = [0, 1, 1, 0, 1]"
   ]
  },
  {
   "cell_type": "code",
   "execution_count": 28,
   "id": "2b8062f0",
   "metadata": {},
   "outputs": [
    {
     "data": {
      "text/html": [
       "<div>\n",
       "<style scoped>\n",
       "    .dataframe tbody tr th:only-of-type {\n",
       "        vertical-align: middle;\n",
       "    }\n",
       "\n",
       "    .dataframe tbody tr th {\n",
       "        vertical-align: top;\n",
       "    }\n",
       "\n",
       "    .dataframe thead th {\n",
       "        text-align: right;\n",
       "    }\n",
       "</style>\n",
       "<table border=\"1\" class=\"dataframe\">\n",
       "  <thead>\n",
       "    <tr style=\"text-align: right;\">\n",
       "      <th></th>\n",
       "      <th>0 Prob</th>\n",
       "      <th>1 Prob</th>\n",
       "    </tr>\n",
       "  </thead>\n",
       "  <tbody>\n",
       "    <tr>\n",
       "      <th>0</th>\n",
       "      <td>0.89</td>\n",
       "      <td>0.11</td>\n",
       "    </tr>\n",
       "    <tr>\n",
       "      <th>1</th>\n",
       "      <td>0.49</td>\n",
       "      <td>0.51</td>\n",
       "    </tr>\n",
       "    <tr>\n",
       "      <th>2</th>\n",
       "      <td>0.43</td>\n",
       "      <td>0.57</td>\n",
       "    </tr>\n",
       "    <tr>\n",
       "      <th>3</th>\n",
       "      <td>0.84</td>\n",
       "      <td>0.16</td>\n",
       "    </tr>\n",
       "    <tr>\n",
       "      <th>4</th>\n",
       "      <td>0.18</td>\n",
       "      <td>0.82</td>\n",
       "    </tr>\n",
       "  </tbody>\n",
       "</table>\n",
       "</div>"
      ],
      "text/plain": [
       "   0 Prob  1 Prob\n",
       "0    0.89    0.11\n",
       "1    0.49    0.51\n",
       "2    0.43    0.57\n",
       "3    0.84    0.16\n",
       "4    0.18    0.82"
      ]
     },
     "execution_count": 28,
     "metadata": {},
     "output_type": "execute_result"
    }
   ],
   "source": [
    "col = [\"0 Prob\", \"1 Prob\"]\n",
    "a = pd.DataFrame(data=data,columns=col)\n",
    "a"
   ]
  },
  {
   "cell_type": "code",
   "execution_count": 29,
   "id": "d966121b",
   "metadata": {},
   "outputs": [
    {
     "data": {
      "text/html": [
       "<div>\n",
       "<style scoped>\n",
       "    .dataframe tbody tr th:only-of-type {\n",
       "        vertical-align: middle;\n",
       "    }\n",
       "\n",
       "    .dataframe tbody tr th {\n",
       "        vertical-align: top;\n",
       "    }\n",
       "\n",
       "    .dataframe thead th {\n",
       "        text-align: right;\n",
       "    }\n",
       "</style>\n",
       "<table border=\"1\" class=\"dataframe\">\n",
       "  <thead>\n",
       "    <tr style=\"text-align: right;\">\n",
       "      <th></th>\n",
       "      <th>0 Prob</th>\n",
       "      <th>1 Prob</th>\n",
       "      <th>Target</th>\n",
       "    </tr>\n",
       "  </thead>\n",
       "  <tbody>\n",
       "    <tr>\n",
       "      <th>0</th>\n",
       "      <td>0.89</td>\n",
       "      <td>0.11</td>\n",
       "      <td>0</td>\n",
       "    </tr>\n",
       "    <tr>\n",
       "      <th>1</th>\n",
       "      <td>0.49</td>\n",
       "      <td>0.51</td>\n",
       "      <td>1</td>\n",
       "    </tr>\n",
       "    <tr>\n",
       "      <th>2</th>\n",
       "      <td>0.43</td>\n",
       "      <td>0.57</td>\n",
       "      <td>1</td>\n",
       "    </tr>\n",
       "    <tr>\n",
       "      <th>3</th>\n",
       "      <td>0.84</td>\n",
       "      <td>0.16</td>\n",
       "      <td>0</td>\n",
       "    </tr>\n",
       "    <tr>\n",
       "      <th>4</th>\n",
       "      <td>0.18</td>\n",
       "      <td>0.82</td>\n",
       "      <td>1</td>\n",
       "    </tr>\n",
       "  </tbody>\n",
       "</table>\n",
       "</div>"
      ],
      "text/plain": [
       "   0 Prob  1 Prob  Target\n",
       "0    0.89    0.11       0\n",
       "1    0.49    0.51       1\n",
       "2    0.43    0.57       1\n",
       "3    0.84    0.16       0\n",
       "4    0.18    0.82       1"
      ]
     },
     "execution_count": 29,
     "metadata": {},
     "output_type": "execute_result"
    }
   ],
   "source": [
    "a[\"Target\"] = more_data\n",
    "a"
   ]
  },
  {
   "cell_type": "code",
   "execution_count": 31,
   "id": "9cfad52b",
   "metadata": {},
   "outputs": [
    {
     "data": {
      "text/html": [
       "<div>\n",
       "<style scoped>\n",
       "    .dataframe tbody tr th:only-of-type {\n",
       "        vertical-align: middle;\n",
       "    }\n",
       "\n",
       "    .dataframe tbody tr th {\n",
       "        vertical-align: top;\n",
       "    }\n",
       "\n",
       "    .dataframe thead th {\n",
       "        text-align: right;\n",
       "    }\n",
       "</style>\n",
       "<table border=\"1\" class=\"dataframe\">\n",
       "  <thead>\n",
       "    <tr style=\"text-align: right;\">\n",
       "      <th></th>\n",
       "      <th>Target</th>\n",
       "    </tr>\n",
       "  </thead>\n",
       "  <tbody>\n",
       "    <tr>\n",
       "      <th>0</th>\n",
       "      <td>0</td>\n",
       "    </tr>\n",
       "    <tr>\n",
       "      <th>1</th>\n",
       "      <td>1</td>\n",
       "    </tr>\n",
       "    <tr>\n",
       "      <th>2</th>\n",
       "      <td>1</td>\n",
       "    </tr>\n",
       "    <tr>\n",
       "      <th>3</th>\n",
       "      <td>0</td>\n",
       "    </tr>\n",
       "    <tr>\n",
       "      <th>4</th>\n",
       "      <td>1</td>\n",
       "    </tr>\n",
       "  </tbody>\n",
       "</table>\n",
       "</div>"
      ],
      "text/plain": [
       "   Target\n",
       "0       0\n",
       "1       1\n",
       "2       1\n",
       "3       0\n",
       "4       1"
      ]
     },
     "execution_count": 31,
     "metadata": {},
     "output_type": "execute_result"
    }
   ],
   "source": [
    "b = pd.DataFrame(data=more_data,columns=[\"Target\"])\n",
    "b"
   ]
  },
  {
   "cell_type": "markdown",
   "id": "1feb0d5c",
   "metadata": {},
   "source": [
    "### Combining two or more dataframes"
   ]
  },
  {
   "cell_type": "code",
   "execution_count": 39,
   "id": "ee651d3b",
   "metadata": {},
   "outputs": [
    {
     "data": {
      "text/html": [
       "<div>\n",
       "<style scoped>\n",
       "    .dataframe tbody tr th:only-of-type {\n",
       "        vertical-align: middle;\n",
       "    }\n",
       "\n",
       "    .dataframe tbody tr th {\n",
       "        vertical-align: top;\n",
       "    }\n",
       "\n",
       "    .dataframe thead th {\n",
       "        text-align: right;\n",
       "    }\n",
       "</style>\n",
       "<table border=\"1\" class=\"dataframe\">\n",
       "  <thead>\n",
       "    <tr style=\"text-align: right;\">\n",
       "      <th></th>\n",
       "      <th>0 Prob</th>\n",
       "      <th>1 Prob</th>\n",
       "      <th>Target</th>\n",
       "      <th>Target</th>\n",
       "    </tr>\n",
       "  </thead>\n",
       "  <tbody>\n",
       "    <tr>\n",
       "      <th>0</th>\n",
       "      <td>0.89</td>\n",
       "      <td>0.11</td>\n",
       "      <td>0</td>\n",
       "      <td>0</td>\n",
       "    </tr>\n",
       "    <tr>\n",
       "      <th>1</th>\n",
       "      <td>0.49</td>\n",
       "      <td>0.51</td>\n",
       "      <td>1</td>\n",
       "      <td>1</td>\n",
       "    </tr>\n",
       "    <tr>\n",
       "      <th>2</th>\n",
       "      <td>0.43</td>\n",
       "      <td>0.57</td>\n",
       "      <td>1</td>\n",
       "      <td>1</td>\n",
       "    </tr>\n",
       "    <tr>\n",
       "      <th>3</th>\n",
       "      <td>0.84</td>\n",
       "      <td>0.16</td>\n",
       "      <td>0</td>\n",
       "      <td>0</td>\n",
       "    </tr>\n",
       "    <tr>\n",
       "      <th>4</th>\n",
       "      <td>0.18</td>\n",
       "      <td>0.82</td>\n",
       "      <td>1</td>\n",
       "      <td>1</td>\n",
       "    </tr>\n",
       "  </tbody>\n",
       "</table>\n",
       "</div>"
      ],
      "text/plain": [
       "   0 Prob  1 Prob  Target  Target\n",
       "0    0.89    0.11       0       0\n",
       "1    0.49    0.51       1       1\n",
       "2    0.43    0.57       1       1\n",
       "3    0.84    0.16       0       0\n",
       "4    0.18    0.82       1       1"
      ]
     },
     "execution_count": 39,
     "metadata": {},
     "output_type": "execute_result"
    }
   ],
   "source": [
    "c = pd.concat([a, b], axis=1, join=\"inner\")\n",
    "c"
   ]
  },
  {
   "cell_type": "markdown",
   "id": "4920f11a",
   "metadata": {},
   "source": [
    "## Describe Data"
   ]
  },
  {
   "cell_type": "code",
   "execution_count": 11,
   "id": "19cb989a",
   "metadata": {},
   "outputs": [
    {
     "data": {
      "text/plain": [
       "Make             object\n",
       "Colour           object\n",
       "Odometer (KM)     int64\n",
       "Doors             int64\n",
       "Price            object\n",
       "dtype: object"
      ]
     },
     "execution_count": 11,
     "metadata": {},
     "output_type": "execute_result"
    }
   ],
   "source": [
    "# attribute\n",
    "car_sales.dtypes"
   ]
  },
  {
   "cell_type": "code",
   "execution_count": 12,
   "id": "cc8c153d",
   "metadata": {},
   "outputs": [],
   "source": [
    "car_sales.columns\n",
    "car_columns = car_sales.columns"
   ]
  },
  {
   "cell_type": "code",
   "execution_count": 13,
   "id": "0b28f493",
   "metadata": {},
   "outputs": [
    {
     "data": {
      "text/plain": [
       "Index(['Make', 'Colour', 'Odometer (KM)', 'Doors', 'Price'], dtype='object')"
      ]
     },
     "execution_count": 13,
     "metadata": {},
     "output_type": "execute_result"
    }
   ],
   "source": [
    "car_columns"
   ]
  },
  {
   "cell_type": "code",
   "execution_count": 14,
   "id": "00543275",
   "metadata": {},
   "outputs": [
    {
     "data": {
      "text/plain": [
       "RangeIndex(start=0, stop=10, step=1)"
      ]
     },
     "execution_count": 14,
     "metadata": {},
     "output_type": "execute_result"
    }
   ],
   "source": [
    "car_sales.index"
   ]
  },
  {
   "cell_type": "code",
   "execution_count": 15,
   "id": "e1f34c77",
   "metadata": {},
   "outputs": [
    {
     "data": {
      "text/html": [
       "<div>\n",
       "<style scoped>\n",
       "    .dataframe tbody tr th:only-of-type {\n",
       "        vertical-align: middle;\n",
       "    }\n",
       "\n",
       "    .dataframe tbody tr th {\n",
       "        vertical-align: top;\n",
       "    }\n",
       "\n",
       "    .dataframe thead th {\n",
       "        text-align: right;\n",
       "    }\n",
       "</style>\n",
       "<table border=\"1\" class=\"dataframe\">\n",
       "  <thead>\n",
       "    <tr style=\"text-align: right;\">\n",
       "      <th></th>\n",
       "      <th>Odometer (KM)</th>\n",
       "      <th>Doors</th>\n",
       "    </tr>\n",
       "  </thead>\n",
       "  <tbody>\n",
       "    <tr>\n",
       "      <th>count</th>\n",
       "      <td>10.000000</td>\n",
       "      <td>10.000000</td>\n",
       "    </tr>\n",
       "    <tr>\n",
       "      <th>mean</th>\n",
       "      <td>78601.400000</td>\n",
       "      <td>4.000000</td>\n",
       "    </tr>\n",
       "    <tr>\n",
       "      <th>std</th>\n",
       "      <td>61983.471735</td>\n",
       "      <td>0.471405</td>\n",
       "    </tr>\n",
       "    <tr>\n",
       "      <th>min</th>\n",
       "      <td>11179.000000</td>\n",
       "      <td>3.000000</td>\n",
       "    </tr>\n",
       "    <tr>\n",
       "      <th>25%</th>\n",
       "      <td>35836.250000</td>\n",
       "      <td>4.000000</td>\n",
       "    </tr>\n",
       "    <tr>\n",
       "      <th>50%</th>\n",
       "      <td>57369.000000</td>\n",
       "      <td>4.000000</td>\n",
       "    </tr>\n",
       "    <tr>\n",
       "      <th>75%</th>\n",
       "      <td>96384.500000</td>\n",
       "      <td>4.000000</td>\n",
       "    </tr>\n",
       "    <tr>\n",
       "      <th>max</th>\n",
       "      <td>213095.000000</td>\n",
       "      <td>5.000000</td>\n",
       "    </tr>\n",
       "  </tbody>\n",
       "</table>\n",
       "</div>"
      ],
      "text/plain": [
       "       Odometer (KM)      Doors\n",
       "count      10.000000  10.000000\n",
       "mean    78601.400000   4.000000\n",
       "std     61983.471735   0.471405\n",
       "min     11179.000000   3.000000\n",
       "25%     35836.250000   4.000000\n",
       "50%     57369.000000   4.000000\n",
       "75%     96384.500000   4.000000\n",
       "max    213095.000000   5.000000"
      ]
     },
     "execution_count": 15,
     "metadata": {},
     "output_type": "execute_result"
    }
   ],
   "source": [
    "# functions\n",
    "car_sales.describe()"
   ]
  },
  {
   "cell_type": "code",
   "execution_count": 16,
   "id": "e541f1f5",
   "metadata": {},
   "outputs": [
    {
     "name": "stdout",
     "output_type": "stream",
     "text": [
      "<class 'pandas.core.frame.DataFrame'>\n",
      "RangeIndex: 10 entries, 0 to 9\n",
      "Data columns (total 5 columns):\n",
      " #   Column         Non-Null Count  Dtype \n",
      "---  ------         --------------  ----- \n",
      " 0   Make           10 non-null     object\n",
      " 1   Colour         10 non-null     object\n",
      " 2   Odometer (KM)  10 non-null     int64 \n",
      " 3   Doors          10 non-null     int64 \n",
      " 4   Price          10 non-null     object\n",
      "dtypes: int64(2), object(3)\n",
      "memory usage: 528.0+ bytes\n"
     ]
    }
   ],
   "source": [
    "car_sales.info()"
   ]
  },
  {
   "cell_type": "code",
   "execution_count": 17,
   "id": "d06e6484",
   "metadata": {},
   "outputs": [
    {
     "name": "stderr",
     "output_type": "stream",
     "text": [
      "C:\\Users\\Lawrence\\AppData\\Local\\Temp\\ipykernel_3380\\4073448239.py:1: FutureWarning: The default value of numeric_only in DataFrame.mean is deprecated. In a future version, it will default to False. In addition, specifying 'numeric_only=None' is deprecated. Select only valid columns or specify the value of numeric_only to silence this warning.\n",
      "  car_sales.mean()\n"
     ]
    },
    {
     "data": {
      "text/plain": [
       "Odometer (KM)    78601.4\n",
       "Doors                4.0\n",
       "dtype: float64"
      ]
     },
     "execution_count": 17,
     "metadata": {},
     "output_type": "execute_result"
    }
   ],
   "source": [
    "car_sales.mean()"
   ]
  },
  {
   "cell_type": "code",
   "execution_count": 18,
   "id": "82a91740",
   "metadata": {},
   "outputs": [
    {
     "data": {
      "text/plain": [
       "78601.4"
      ]
     },
     "execution_count": 18,
     "metadata": {},
     "output_type": "execute_result"
    }
   ],
   "source": [
    "car_sales[\"Odometer (KM)\"].mean()"
   ]
  },
  {
   "cell_type": "code",
   "execution_count": 19,
   "id": "e9aa1b83",
   "metadata": {},
   "outputs": [
    {
     "data": {
      "text/plain": [
       "3000.0"
      ]
     },
     "execution_count": 19,
     "metadata": {},
     "output_type": "execute_result"
    }
   ],
   "source": [
    "# create a series from data\n",
    "car_prices = pd.Series([3000, 1500, 4500])\n",
    "car_prices.mean()"
   ]
  },
  {
   "cell_type": "code",
   "execution_count": 20,
   "id": "487e75ea",
   "metadata": {},
   "outputs": [
    {
     "data": {
      "text/plain": [
       "Make             ToyotaHondaToyotaBMWNissanToyotaHondaHondaToyo...\n",
       "Colour               WhiteRedBlueBlackWhiteGreenBlueBlueWhiteWhite\n",
       "Odometer (KM)                                               786014\n",
       "Doors                                                           40\n",
       "Price            $4,000.00$5,000.00$7,000.00$22,000.00$3,500.00...\n",
       "dtype: object"
      ]
     },
     "execution_count": 20,
     "metadata": {},
     "output_type": "execute_result"
    }
   ],
   "source": [
    "car_sales.sum()"
   ]
  },
  {
   "cell_type": "code",
   "execution_count": 21,
   "id": "563835a3",
   "metadata": {},
   "outputs": [
    {
     "data": {
      "text/plain": [
       "40"
      ]
     },
     "execution_count": 21,
     "metadata": {},
     "output_type": "execute_result"
    }
   ],
   "source": [
    "car_sales[\"Doors\"].sum()"
   ]
  },
  {
   "cell_type": "code",
   "execution_count": 22,
   "id": "7efb875f",
   "metadata": {},
   "outputs": [
    {
     "data": {
      "text/plain": [
       "10"
      ]
     },
     "execution_count": 22,
     "metadata": {},
     "output_type": "execute_result"
    }
   ],
   "source": [
    "len(car_sales)"
   ]
  },
  {
   "cell_type": "code",
   "execution_count": 23,
   "id": "d6585629",
   "metadata": {},
   "outputs": [
    {
     "data": {
      "text/html": [
       "<div>\n",
       "<style scoped>\n",
       "    .dataframe tbody tr th:only-of-type {\n",
       "        vertical-align: middle;\n",
       "    }\n",
       "\n",
       "    .dataframe tbody tr th {\n",
       "        vertical-align: top;\n",
       "    }\n",
       "\n",
       "    .dataframe thead th {\n",
       "        text-align: right;\n",
       "    }\n",
       "</style>\n",
       "<table border=\"1\" class=\"dataframe\">\n",
       "  <thead>\n",
       "    <tr style=\"text-align: right;\">\n",
       "      <th></th>\n",
       "      <th>Make</th>\n",
       "      <th>Colour</th>\n",
       "      <th>Odometer (KM)</th>\n",
       "      <th>Doors</th>\n",
       "      <th>Price</th>\n",
       "    </tr>\n",
       "  </thead>\n",
       "  <tbody>\n",
       "    <tr>\n",
       "      <th>0</th>\n",
       "      <td>Toyota</td>\n",
       "      <td>White</td>\n",
       "      <td>150043</td>\n",
       "      <td>4</td>\n",
       "      <td>$4,000.00</td>\n",
       "    </tr>\n",
       "    <tr>\n",
       "      <th>1</th>\n",
       "      <td>Honda</td>\n",
       "      <td>Red</td>\n",
       "      <td>87899</td>\n",
       "      <td>4</td>\n",
       "      <td>$5,000.00</td>\n",
       "    </tr>\n",
       "    <tr>\n",
       "      <th>2</th>\n",
       "      <td>Toyota</td>\n",
       "      <td>Blue</td>\n",
       "      <td>32549</td>\n",
       "      <td>3</td>\n",
       "      <td>$7,000.00</td>\n",
       "    </tr>\n",
       "    <tr>\n",
       "      <th>3</th>\n",
       "      <td>BMW</td>\n",
       "      <td>Black</td>\n",
       "      <td>11179</td>\n",
       "      <td>5</td>\n",
       "      <td>$22,000.00</td>\n",
       "    </tr>\n",
       "    <tr>\n",
       "      <th>4</th>\n",
       "      <td>Nissan</td>\n",
       "      <td>White</td>\n",
       "      <td>213095</td>\n",
       "      <td>4</td>\n",
       "      <td>$3,500.00</td>\n",
       "    </tr>\n",
       "  </tbody>\n",
       "</table>\n",
       "</div>"
      ],
      "text/plain": [
       "     Make Colour  Odometer (KM)  Doors       Price\n",
       "0  Toyota  White         150043      4   $4,000.00\n",
       "1   Honda    Red          87899      4   $5,000.00\n",
       "2  Toyota   Blue          32549      3   $7,000.00\n",
       "3     BMW  Black          11179      5  $22,000.00\n",
       "4  Nissan  White         213095      4   $3,500.00"
      ]
     },
     "execution_count": 23,
     "metadata": {},
     "output_type": "execute_result"
    }
   ],
   "source": [
    "car_sales.head()"
   ]
  },
  {
   "cell_type": "code",
   "execution_count": 24,
   "id": "be4b0909",
   "metadata": {},
   "outputs": [
    {
     "data": {
      "text/html": [
       "<div>\n",
       "<style scoped>\n",
       "    .dataframe tbody tr th:only-of-type {\n",
       "        vertical-align: middle;\n",
       "    }\n",
       "\n",
       "    .dataframe tbody tr th {\n",
       "        vertical-align: top;\n",
       "    }\n",
       "\n",
       "    .dataframe thead th {\n",
       "        text-align: right;\n",
       "    }\n",
       "</style>\n",
       "<table border=\"1\" class=\"dataframe\">\n",
       "  <thead>\n",
       "    <tr style=\"text-align: right;\">\n",
       "      <th></th>\n",
       "      <th>Make</th>\n",
       "      <th>Colour</th>\n",
       "      <th>Odometer (KM)</th>\n",
       "      <th>Doors</th>\n",
       "      <th>Price</th>\n",
       "    </tr>\n",
       "  </thead>\n",
       "  <tbody>\n",
       "    <tr>\n",
       "      <th>5</th>\n",
       "      <td>Toyota</td>\n",
       "      <td>Green</td>\n",
       "      <td>99213</td>\n",
       "      <td>4</td>\n",
       "      <td>$4,500.00</td>\n",
       "    </tr>\n",
       "    <tr>\n",
       "      <th>6</th>\n",
       "      <td>Honda</td>\n",
       "      <td>Blue</td>\n",
       "      <td>45698</td>\n",
       "      <td>4</td>\n",
       "      <td>$7,500.00</td>\n",
       "    </tr>\n",
       "    <tr>\n",
       "      <th>7</th>\n",
       "      <td>Honda</td>\n",
       "      <td>Blue</td>\n",
       "      <td>54738</td>\n",
       "      <td>4</td>\n",
       "      <td>$7,000.00</td>\n",
       "    </tr>\n",
       "    <tr>\n",
       "      <th>8</th>\n",
       "      <td>Toyota</td>\n",
       "      <td>White</td>\n",
       "      <td>60000</td>\n",
       "      <td>4</td>\n",
       "      <td>$6,250.00</td>\n",
       "    </tr>\n",
       "    <tr>\n",
       "      <th>9</th>\n",
       "      <td>Nissan</td>\n",
       "      <td>White</td>\n",
       "      <td>31600</td>\n",
       "      <td>4</td>\n",
       "      <td>$9,700.00</td>\n",
       "    </tr>\n",
       "  </tbody>\n",
       "</table>\n",
       "</div>"
      ],
      "text/plain": [
       "     Make Colour  Odometer (KM)  Doors      Price\n",
       "5  Toyota  Green          99213      4  $4,500.00\n",
       "6   Honda   Blue          45698      4  $7,500.00\n",
       "7   Honda   Blue          54738      4  $7,000.00\n",
       "8  Toyota  White          60000      4  $6,250.00\n",
       "9  Nissan  White          31600      4  $9,700.00"
      ]
     },
     "execution_count": 24,
     "metadata": {},
     "output_type": "execute_result"
    }
   ],
   "source": [
    "car_sales.tail()"
   ]
  },
  {
   "cell_type": "code",
   "execution_count": null,
   "id": "9eb308e0",
   "metadata": {},
   "outputs": [],
   "source": []
  }
 ],
 "metadata": {
  "kernelspec": {
   "display_name": "Python 3 (ipykernel)",
   "language": "python",
   "name": "python3"
  },
  "language_info": {
   "codemirror_mode": {
    "name": "ipython",
    "version": 3
   },
   "file_extension": ".py",
   "mimetype": "text/x-python",
   "name": "python",
   "nbconvert_exporter": "python",
   "pygments_lexer": "ipython3",
   "version": "3.10.12"
  }
 },
 "nbformat": 4,
 "nbformat_minor": 5
}
